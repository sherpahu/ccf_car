{
 "cells": [
  {
   "cell_type": "code",
   "execution_count": 1,
   "metadata": {},
   "outputs": [],
   "source": [
    "import pandas as pd\n",
    "import numpy as np"
   ]
  },
  {
   "cell_type": "markdown",
   "metadata": {},
   "source": [
    "# 复赛"
   ]
  },
  {
   "cell_type": "code",
   "execution_count": 2,
   "metadata": {},
   "outputs": [],
   "source": [
    "# 使用0.589原本的结果\n",
    "first=pd.read_csv('../rst/0589_try.csv')\n",
    "#second=pd.read_csv('../rst/057_shift5_4_3_05835_3bi7.csv')\n",
    "submission = pd.DataFrame({\n",
    "    \"id\": first['id'], \n",
    "    \"forecastVolum\": (first['ad_ry_mean']*0.21+first['md_ry_mean']*0.38+first['bt_ry_mean']*0.41).round().astype(int)\n",
    "})\n",
    "submission['forecastVolum'] = submission['forecastVolum'].apply(lambda x: 0 if x < 0 else x)#<0的结果变为0\n",
    "submission.to_csv('../rst/059_try_2b4b4.csv', index=False)\n",
    "# 0.46957916"
   ]
  },
  {
   "cell_type": "code",
   "execution_count": 5,
   "metadata": {},
   "outputs": [],
   "source": [
    "# 使用初赛结果替换上述结果\n",
    "chusai=pd.read_csv('../../ccf_car/gongzhen/rst/__main__0629_0624_refusion_7_3.csv')\n",
    "fusai_0469=pd.read_csv('../rst/059_try_2b4b4.csv')\n",
    "mask=[(x in chusai.id.values) for x in fusai_0469.id.values]\n",
    "fusai_0469.loc[mask,'forecastVolum']=chusai['forecastVolum']\n",
    "fusai_0469.to_csv('../rst/059_chusai_replace.csv', index=False)\n",
    "# 0.53306133"
   ]
  },
  {
   "cell_type": "code",
   "execution_count": 13,
   "metadata": {},
   "outputs": [],
   "source": [
    "# 使用0.589原本的结果与毛豫新融合\n",
    "first=pd.read_csv('../rst/059_try_2b4b4.csv')\n",
    "second=pd.read_csv('../rst/myx_car_prediction_sales.csv')\n",
    "submission = pd.DataFrame({\n",
    "    \"id\": first['id'], \n",
    "    \"forecastVolum\": (first['forecastVolum']*0.2855+second['forecastVolum']*0.7145).round().astype(int)\n",
    "})\n",
    "submission['forecastVolum'] = submission['forecastVolum'].apply(lambda x: 0 if x < 0 else x)#<0的结果变为0\n",
    "# 使用初赛结果替换上述结果\n",
    "chusai=pd.read_csv('E:/competition/ccf_car/gongzhen/rst/__main__0629_0624_refusion_7_3.csv')\n",
    "mask=[(x in chusai.id.values) for x in fusai_0469.id.values]\n",
    "submission.loc[mask,'forecastVolum']=chusai['forecastVolum']\n",
    "\n",
    "submission.to_csv('../rst/0589_2b4b4_myx_3b7_chusaiReplace.csv', index=False)\n",
    "# 0.58322817"
   ]
  },
  {
   "cell_type": "code",
   "execution_count": 4,
   "metadata": {},
   "outputs": [],
   "source": [
    "# 使用0.589原本的结果与毛豫新+smoothing融合\n",
    "first=pd.read_csv('../rst/059_try_2b4b4.csv')\n",
    "second=pd.read_csv('../rst/myx_car_prediction_sales_smoothing.csv')\n",
    "submission = pd.DataFrame({\n",
    "    \"id\": first['id'], \n",
    "    \"forecastVolum\": (first['forecastVolum']*0.2855+second['forecastVolum']*0.7145).round().astype(int)\n",
    "})\n",
    "submission['forecastVolum'] = submission['forecastVolum'].apply(lambda x: 0 if x < 0 else x)#<0的结果变为0\n",
    "# 使用初赛结果替换上述结果\n",
    "chusai=pd.read_csv('E:/competition/ccf_car/gongzhen/rst/__main__0629_0624_refusion_7_3.csv')\n",
    "mask=[(x in chusai.id.values) for x in fusai_0469.id.values]\n",
    "submission.loc[mask,'forecastVolum']=chusai['forecastVolum']\n",
    "\n",
    "submission.to_csv('../rst/0589_2b4b4_myx_3b7_chusaiReplace_smoothing.csv', index=False)\n",
    "# 0.58440822"
   ]
  },
  {
   "cell_type": "code",
   "execution_count": 5,
   "metadata": {},
   "outputs": [],
   "source": [
    "# 使用0.589原本的结果与毛豫新融合\n",
    "first=pd.read_csv('../rst/059_try_2b4b4.csv')\n",
    "second=pd.read_csv('../rst/myx_car_prediction_sales_smoothing.csv')\n",
    "submission = pd.DataFrame({\n",
    "    \"id\": first['id'], \n",
    "    \"forecastVolum\": (first['forecastVolum']*0.2855+second['forecastVolum']*0.7145).round().astype(int)\n",
    "})\n",
    "submission['forecastVolum'] = submission['forecastVolum'].apply(lambda x: 0 if x < 0 else x)#<0的结果变为0\n",
    "# 使用初赛结果替换上述结果\n",
    "chusai=pd.read_csv('E:/competition/ccf_car/gongzhen/rst/__main__0629_0624_refusion_7_3.csv')\n",
    "mask=[(x in chusai.id.values) for x in fusai_0469.id.values]\n",
    "#submission.loc[mask,'forecastVolum']=chusai['forecastVolum']\n",
    "\n",
    "submission.to_csv('../rst/0589_2b4b4_myx_3b7_noReplace_smoothing.csv', index=False)\n",
    "# 0.55707"
   ]
  },
  {
   "cell_type": "code",
   "execution_count": 7,
   "metadata": {},
   "outputs": [],
   "source": [
    "# 使用0.589原本的结果与毛豫新融合\n",
    "first=pd.read_csv('../rst/059_try_2b4b4.csv')\n",
    "second=pd.read_csv('../rst/myx_car_prediction_sales.csv')\n",
    "submission = pd.DataFrame({\n",
    "    \"id\": first['id'], \n",
    "    \"forecastVolum\": (first['forecastVolum']*0.2855+second['forecastVolum']*0.7145).round().astype(int)\n",
    "})\n",
    "submission['forecastVolum'] = submission['forecastVolum'].apply(lambda x: 0 if x < 0 else x)#<0的结果变为0\n",
    "# 使用初赛结果替换上述结果\n",
    "chusai=pd.read_csv('E:/competition/ccf_car/gongzhen/rst/__main__0629_0624_refusion_7_3.csv')\n",
    "mask=[(x in chusai.id.values) for x in fusai_0469.id.values]\n",
    "#submission.loc[mask,'forecastVolum']=chusai['forecastVolum']\n",
    "\n",
    "submission.to_csv('../rst/0589_2b4b4_myx_3b7_noReplace.csv', index=False)\n",
    "# "
   ]
  },
  {
   "cell_type": "code",
   "execution_count": 2,
   "metadata": {},
   "outputs": [],
   "source": [
    "# 使用0.589原本的结果与毛豫新融合\n",
    "first=pd.read_csv('../rst/0589_2b4b4_myx_3b7_noReplace_smoothing.csv')\n",
    "second=pd.read_csv('../rst/0589_2b4b4_myx_3b7_chusaiReplace.csv')\n",
    "submission = pd.DataFrame({\n",
    "    \"id\": first['id'], \n",
    "    \"forecastVolum\": (first['forecastVolum']*0.2855+second['forecastVolum']*0.7145).round().astype(int)\n",
    "})\n",
    "submission['forecastVolum'] = submission['forecastVolum'].apply(lambda x: 0 if x < 0 else x)#<0的结果变为0\n",
    "# 使用初赛结果替换上述结果\n",
    "#chusai=pd.read_csv('E:/competition/ccf_car/gongzhen/rst/__main__0629_0624_refusion_7_3.csv')\n",
    "#mask=[(x in chusai.id.values) for x in fusai_0469.id.values]\n",
    "#submission.loc[mask,'forecastVolum']=chusai['forecastVolum']\n",
    "\n",
    "submission.to_csv('../rst/055707_058322817_3b7.csv', index=False)\n",
    "# 0.574"
   ]
  },
  {
   "cell_type": "code",
   "execution_count": 5,
   "metadata": {},
   "outputs": [],
   "source": [
    "# 使用0.589原本的结果与毛豫新+去异常后融合\n",
    "first=pd.read_csv('../rst/059_try_2b4b4.csv')\n",
    "second=pd.read_csv('../rst/myx_xgb_abnormal_05_90.csv')\n",
    "submission = pd.DataFrame({\n",
    "    \"id\": first['id'], \n",
    "    \"forecastVolum\": (first['forecastVolum']*0.2855+second['forecastVolum']*0.7145).round().astype(int)\n",
    "})\n",
    "submission['forecastVolum'] = submission['forecastVolum'].apply(lambda x: 0 if x < 0 else x)#<0的结果变为0\n",
    "# 使用初赛结果替换上述结果\n",
    "chusai=pd.read_csv('E:/competition/ccf_car/gongzhen/rst/__main__0629_0624_refusion_7_3.csv')\n",
    "mask=[(x in chusai.id.values) for x in fusai_0469.id.values]\n",
    "submission.loc[mask,'forecastVolum']=chusai['forecastVolum']\n",
    "\n",
    "submission.to_csv('../rst/0589_2b4b4_myx_3b7_chusaiReplace_abnormal0590.csv', index=False)\n",
    "# 0.58539969"
   ]
  },
  {
   "cell_type": "code",
   "execution_count": 6,
   "metadata": {},
   "outputs": [],
   "source": [
    "# 使用0.62baseline与（0.589原本的结果与毛豫新融合）\n",
    "first=pd.read_csv('../rst/062_baseline_submit.csv')\n",
    "second=pd.read_csv('../rst/0589_2b4b4_myx_3b7_chusaiReplace.csv')\n",
    "submission = pd.DataFrame({\n",
    "    \"id\": first['id'], \n",
    "    \"forecastVolum\": (first['forecastVolum']*0.2855+second['forecastVolum']*0.7145).round().astype(int)\n",
    "})\n",
    "submission['forecastVolum'] = submission['forecastVolum'].apply(lambda x: 0 if x < 0 else x)#<0的结果变为0\n",
    "# 使用初赛结果替换上述结果\n",
    "#chusai=pd.read_csv('E:/competition/ccf_car/gongzhen/rst/__main__0629_0624_refusion_7_3.csv')\n",
    "#mask=[(x in chusai.id.values) for x in fusai_0469.id.values]\n",
    "#submission.loc[mask,'forecastVolum']=chusai['forecastVolum']\n",
    "\n",
    "submission.to_csv('../rst/062base_0584_3b7.csv', index=False)\n",
    "# 0.59546125"
   ]
  },
  {
   "cell_type": "code",
   "execution_count": 3,
   "metadata": {},
   "outputs": [],
   "source": [
    "# 使用0.589原本的结果与毛豫新融合\n",
    "first=pd.read_csv('../rst/059_try_2b4b4.csv')\n",
    "second=pd.read_csv('../rst/myx_xgb_quantile_abnormal.csv')\n",
    "submission = pd.DataFrame({\n",
    "    \"id\": first['id'], \n",
    "    \"forecastVolum\": (first['forecastVolum']*0.2855+second['forecastVolum']*0.7145).round().astype(int)\n",
    "})\n",
    "submission['forecastVolum'] = submission['forecastVolum'].apply(lambda x: 0 if x < 0 else x)#<0的结果变为0\n",
    "# 使用初赛结果替换上述结果\n",
    "chusai=pd.read_csv('E:/competition/ccf_car/gongzhen/rst/__main__0629_0624_refusion_7_3.csv')\n",
    "mask=[(x in chusai.id.values) for x in fusai_0469.id.values]\n",
    "submission.loc[mask,'forecastVolum']=chusai['forecastVolum']\n",
    "\n",
    "submission.to_csv('../rst/0589_2b4b4_myx_3b7_chusaiReplace_quantile_abnormal.csv', index=False)\n",
    "# 0.5500631"
   ]
  },
  {
   "cell_type": "code",
   "execution_count": 6,
   "metadata": {},
   "outputs": [],
   "source": [
    "# 使用0.589+myx lgb xgb\n",
    "first=pd.read_csv('../rst/059_try_2b4b4.csv')\n",
    "second=pd.read_csv('../rst/myx_car_prediction_sales.csv')\n",
    "third=pd.read_csv('../rst/myx_lgb_tiaocan.csv')\n",
    "submission = pd.DataFrame({\n",
    "    \"id\": first['id'], \n",
    "    \"forecastVolum\": (first['forecastVolum']*0.21+second['forecastVolum']*0.38+third['forecastVolum']*0.41).round().astype(int)\n",
    "})\n",
    "submission['forecastVolum'] = submission['forecastVolum'].apply(lambda x: 0 if x < 0 else x)#<0的结果变为0\n",
    "submission.to_csv('../rst/059_myx_lgb_xgb.csv', index=False)\n",
    "# "
   ]
  },
  {
   "cell_type": "code",
   "execution_count": 7,
   "metadata": {},
   "outputs": [],
   "source": [
    "# 使用初赛结果替换上述结果\n",
    "chusai=pd.read_csv('E:/competition/ccf_car/gongzhen/rst/__main__0629_0624_refusion_7_3.csv')\n",
    "fusai_0469=pd.read_csv('../rst/059_myx_lgb_xgb.csv')\n",
    "mask=[(x in chusai.id.values) for x in fusai_0469.id.values]\n",
    "fusai_0469.loc[mask,'forecastVolum']=chusai['forecastVolum']\n",
    "fusai_0469.to_csv('../rst/059_myx_lgb_xgb_chusai_replace.csv', index=False)\n",
    "# 0.58197534"
   ]
  },
  {
   "cell_type": "code",
   "execution_count": 5,
   "metadata": {},
   "outputs": [],
   "source": [
    "# 使用0.62baseline与（0.589原本的结果与毛豫新融合）\n",
    "first=pd.read_csv('../rst/062base_0584_3b7.csv')\n",
    "second=pd.read_csv('../rst/062_baseline_xgb.csv')\n",
    "third=pd.read_csv('../rst/real_stacking.csv')\n",
    "submission = pd.DataFrame({\n",
    "    \"id\": first['id'], \n",
    "    \"forecastVolum\": (first['forecastVolum']*0.6555+second['forecastVolum']*0.345).round().astype(int)\n",
    "})\n",
    "submission['forecastVolum'] = submission['forecastVolum'].apply(lambda x: 0 if x < 0 else x)#<0的结果变为0\n",
    "# 使用初赛结果替换上述结果\n",
    "#chusai=pd.read_csv('E:/competition/ccf_car/gongzhen/rst/__main__0629_0624_refusion_7_3.csv')\n",
    "#mask=[(x in chusai.id.values) for x in fusai_0469.id.values]\n",
    "#submission.loc[mask,'forecastVolum']=chusai['forecastVolum']\n",
    "\n",
    "submission.to_csv('../rst/062base_0584_3b7_xgb_realstack.csv', index=False)\n",
    "# 0.59397477000"
   ]
  },
  {
   "cell_type": "code",
   "execution_count": 9,
   "metadata": {},
   "outputs": [],
   "source": [
    "# 使用0.589原本的结果与毛豫新融合\n",
    "first=pd.read_csv('../rst/059_try_2b4b4.csv')\n",
    "second=pd.read_csv('../rst/myx_car_prediction_sales.csv')\n",
    "third=pd.read_csv('../rst/myx_model_sales.csv')\n",
    "submission = pd.DataFrame({\n",
    "    \"id\": first['id'], \n",
    "    \"forecastVolum\": (first['forecastVolum']*0.2855+second['forecastVolum']*0.4145+third['forecastVolum']*0.3).round().astype(int)\n",
    "})\n",
    "submission['forecastVolum'] = submission['forecastVolum'].apply(lambda x: 0 if x < 0 else x)#<0的结果变为0\n",
    "# 使用初赛结果替换上述结果\n",
    "chusai=pd.read_csv('E:/competition/ccf_car/gongzhen/rst/__main__0629_0624_refusion_7_3.csv')\n",
    "mask=[(x in chusai.id.values) for x in fusai_0469.id.values]\n",
    "submission.loc[mask,'forecastVolum']=chusai['forecastVolum']\n",
    "\n",
    "submission.to_csv('../rst/0589_2b4b4_myx_area_model_3b4b3_chusaiReplace.csv', index=False)\n",
    "# 0.58820456000 "
   ]
  },
  {
   "cell_type": "code",
   "execution_count": 4,
   "metadata": {},
   "outputs": [],
   "source": [
    "# 使用0.62baseline与（0.589原本的结果与毛豫新融合）\n",
    "first=pd.read_csv('../rst/0589_2b4b4_myx_3b7_chusaiReplace.csv')\n",
    "second=pd.read_csv('../rst/062_baseline_xgb.csv')\n",
    "third=pd.read_csv('../rst/062_baseline_submit.csv')\n",
    "fourth=pd.read_csv('../rst/0589_2b4b4_myx_area_model_3b4b3_chusaiReplace.csv')\n",
    "submission = pd.DataFrame({\n",
    "    \"id\": first['id'], \n",
    "    \"forecastVolum\": ((first['forecastVolum']+fourth['forecastVolum'])*(0.5*0.7355)+(second['forecastVolum']+third['forecastVolum'])*(0.5*0.2645)).round().astype(int)\n",
    "})\n",
    "submission['forecastVolum'] = submission['forecastVolum'].apply(lambda x: 0 if x < 0 else x)#<0的结果变为0\n",
    "# 使用初赛结果替换上述结果\n",
    "#chusai=pd.read_csv('E:/competition/ccf_car/gongzhen/rst/__main__0629_0624_refusion_7_3.csv')\n",
    "#mask=[(x in chusai.id.values) for x in fusai_0469.id.values]\n",
    "#submission.loc[mask,'forecastVolum']=chusai['forecastVolum']\n",
    "\n",
    "submission.to_csv('../rst/062base_xgb_lgb_0589_myx_26b74.csv', index=False)\n",
    "# 0.59661764"
   ]
  },
  {
   "cell_type": "code",
   "execution_count": 4,
   "metadata": {},
   "outputs": [],
   "source": [
    "# 使用0.589原本的结果与毛豫新融合\n",
    "first=pd.read_csv('../rst/059_try_2b4b4.csv')\n",
    "second=pd.read_csv('../rst/myx_model_sales.csv')\n",
    "submission = pd.DataFrame({\n",
    "    \"id\": first['id'], \n",
    "    \"forecastVolum\": (first['forecastVolum']*0.2855+second['forecastVolum']*0.7145).round().astype(int)\n",
    "})\n",
    "submission['forecastVolum'] = submission['forecastVolum'].apply(lambda x: 0 if x < 0 else x)#<0的结果变为0\n",
    "# 使用初赛结果替换上述结果\n",
    "chusai=pd.read_csv('E:/competition/ccf_car/gongzhen/rst/__main__0629_0624_refusion_7_3.csv')\n",
    "mask=[(x in chusai.id.values) for x in fusai_0469.id.values]\n",
    "submission.loc[mask,'forecastVolum']=chusai['forecastVolum']\n",
    "\n",
    "submission.to_csv('../rst/0589_2b4b4_myx_area_model_3b7_chusaiReplace.csv', index=False)\n",
    "# "
   ]
  },
  {
   "cell_type": "code",
   "execution_count": 5,
   "metadata": {},
   "outputs": [],
   "source": [
    "# 使用0.62baseline与（0.589原本的结果与毛豫新融合）\n",
    "first=pd.read_csv('../rst/062_baseline_submit.csv')\n",
    "second=pd.read_csv('../rst/0589_2b4b4_myx_3b7_chusaiReplace.csv')\n",
    "third=pd.read_csv('../rst/062_baseline_xgb.csv')\n",
    "fourth=pd.read_csv('../rst/0589_2b4b4_myx_area_model_3b7_chusaiReplace.csv')\n",
    "submission = pd.DataFrame({\n",
    "    \"id\": first['id'], \n",
    "    \"forecastVolum\": ((first['forecastVolum']+third['forecastVolum'])*0.5*0.2855+(second['forecastVolum']+fourth['forecastVolum'])*0.5*0.7145).round().astype(int)\n",
    "})\n",
    "submission['forecastVolum'] = submission['forecastVolum'].apply(lambda x: 0 if x < 0 else x)#<0的结果变为0\n",
    "# 使用初赛结果替换上述结果\n",
    "#chusai=pd.read_csv('E:/competition/ccf_car/gongzhen/rst/__main__0629_0624_refusion_7_3.csv')\n",
    "#mask=[(x in chusai.id.values) for x in fusai_0469.id.values]\n",
    "#submission.loc[mask,'forecastVolum']=chusai['forecastVolum']\n",
    "\n",
    "submission.to_csv('../rst/062base_xgb_lgb_0589_myx_area_model_chusaireplace_3b7.csv', index=False)\n",
    "# 0.59936976"
   ]
  },
  {
   "cell_type": "code",
   "execution_count": 3,
   "metadata": {},
   "outputs": [],
   "source": [
    "# 使用stacking的结果与毛豫新area sales,model sales融合\n",
    "first=pd.read_csv('../rst/real_stacking.csv')\n",
    "second=pd.read_csv('../rst/myx_area_model_sales.csv')\n",
    "submission = pd.DataFrame({\n",
    "    \"id\": first['id'], \n",
    "    \"forecastVolum\": (first['forecastVolum']*0.2855+second['forecastVolum']*0.7145).round().astype(int)\n",
    "})\n",
    "submission['forecastVolum'] = submission['forecastVolum'].apply(lambda x: 0 if x < 0 else x)#<0的结果变为0\n",
    "# 使用初赛结果替换上述结果\n",
    "#chusai=pd.read_csv('E:/competition/ccf_car/gongzhen/rst/__main__0629_0624_refusion_7_3.csv')\n",
    "#mask=[(x in chusai.id.values) for x in fusai_0469.id.values]\n",
    "#submission.loc[mask,'forecastVolum']=chusai['forecastVolum']\n",
    "\n",
    "submission.to_csv('../rst/realStacking_myx_area_model_3b7_noReplace.csv', index=False)\n",
    "# 0.57767469000"
   ]
  },
  {
   "cell_type": "code",
   "execution_count": 13,
   "metadata": {},
   "outputs": [],
   "source": [
    "# 调参\n",
    "# 使用0.62baseline与（0.589原本的结果与毛豫新融合）\n",
    "first=pd.read_csv('../rst/062_baseline_submit.csv')\n",
    "second=pd.read_csv('../rst/0589_2b4b4_myx_3b7_chusaiReplace.csv')\n",
    "third=pd.read_csv('../rst/062_baseline_xgb.csv')\n",
    "fourth=pd.read_csv('../rst/0589_2b4b4_myx_area_model_3b7_chusaiReplace.csv')\n",
    "submission = pd.DataFrame({\n",
    "    \"id\": first['id'], \n",
    "    \"forecastVolum\": ((first['forecastVolum']+third['forecastVolum'])*0.5*0.3355+(second['forecastVolum']+fourth['forecastVolum'])*0.5*0.6645).round().astype(int)\n",
    "})\n",
    "submission['forecastVolum'] = submission['forecastVolum'].apply(lambda x: 0 if x < 0 else x)#<0的结果变为0\n",
    "# 使用初赛结果替换上述结果\n",
    "#chusai=pd.read_csv('E:/competition/ccf_car/gongzhen/rst/__main__0629_0624_refusion_7_3.csv')\n",
    "#mask=[(x in chusai.id.values) for x in fusai_0469.id.values]\n",
    "#submission.loc[mask,'forecastVolum']=chusai['forecastVolum']\n",
    "\n",
    "submission.to_csv('../rst/062base_xgb_lgb_0589_myx_area_model_chusaireplace_33b66.csv', index=False)\n",
    "# 0.60016531"
   ]
  },
  {
   "cell_type": "code",
   "execution_count": 14,
   "metadata": {},
   "outputs": [],
   "source": [
    "# 调参\n",
    "# 使用0.62baseline与（0.589原本的结果与毛豫新融合）\n",
    "first=pd.read_csv('../rst/062_baseline_submit.csv')\n",
    "second=pd.read_csv('../rst/0589_2b4b4_myx_3b7_chusaiReplace.csv')\n",
    "third=pd.read_csv('../rst/062_baseline_xgb.csv')\n",
    "fourth=pd.read_csv('../rst/0589_2b4b4_myx_area_model_3b7_chusaiReplace.csv')\n",
    "submission = pd.DataFrame({\n",
    "    \"id\": first['id'], \n",
    "    \"forecastVolum\": ((first['forecastVolum']+third['forecastVolum'])*0.5*0.3055+(second['forecastVolum']+fourth['forecastVolum'])*0.5*0.6945).round().astype(int)\n",
    "})\n",
    "submission['forecastVolum'] = submission['forecastVolum'].apply(lambda x: 0 if x < 0 else x)#<0的结果变为0\n",
    "# 使用初赛结果替换上述结果\n",
    "#chusai=pd.read_csv('E:/competition/ccf_car/gongzhen/rst/__main__0629_0624_refusion_7_3.csv')\n",
    "#mask=[(x in chusai.id.values) for x in fusai_0469.id.values]\n",
    "#submission.loc[mask,'forecastVolum']=chusai['forecastVolum']\n",
    "\n",
    "submission.to_csv('../rst/062base_xgb_lgb_0589_myx_area_model_chusaireplace_30b69.csv', index=False)\n",
    "# 0.59979916000"
   ]
  },
  {
   "cell_type": "markdown",
   "metadata": {},
   "source": [
    "## hdl"
   ]
  },
  {
   "cell_type": "code",
   "execution_count": 3,
   "metadata": {},
   "outputs": [],
   "source": [
    "# 使用初赛结果替换上述结果\n",
    "chusai=pd.read_csv('E:/competition/ccf_car/gongzhen/rst/__main__0629_0624_refusion_7_3.csv')\n",
    "hdl=pd.read_csv('../rst/hdl.csv')\n",
    "chusai['forecastVolum']=chusai['forecastVolum']*0.7334+hdl['forecastVolum']*0.2666\n",
    "fusai_0469=pd.read_csv('../rst/059_try_2b4b4.csv')\n",
    "mask=[(x in chusai.id.values) for x in fusai_0469.id.values]\n",
    "fusai_0469.loc[mask,'forecastVolum']=chusai['forecastVolum']\n",
    "fusai_0469.to_csv('../rst/059_chusai_hdl_replace.csv', index=False)\n",
    "# "
   ]
  },
  {
   "cell_type": "code",
   "execution_count": 4,
   "metadata": {},
   "outputs": [],
   "source": [
    "# 使用0.589原本的结果与毛豫新+去异常后融合\n",
    "first=pd.read_csv('../rst/059_try_2b4b4.csv')\n",
    "second=pd.read_csv('../rst/myx_lgb_areaSale_abnormal.csv')\n",
    "submission = pd.DataFrame({\n",
    "    \"id\": first['id'], \n",
    "    \"forecastVolum\": (first['forecastVolum']*0.2855+second['forecastVolum']*0.7145).round().astype(int)\n",
    "})\n",
    "submission['forecastVolum'] = submission['forecastVolum'].apply(lambda x: 0 if x < 0 else x)#<0的结果变为0\n",
    "# 使用初赛结果替换上述结果\n",
    "chusai=pd.read_csv('../rst/059_chusai_hdl_replace.csv')\n",
    "mask=[(x in chusai.id.values) for x in fusai_0469.id.values]\n",
    "submission.loc[mask,'forecastVolum']=chusai['forecastVolum']\n",
    "\n",
    "submission.to_csv('../rst/0589_2b4b4_hdl_myx_lgb_areaSale_abnormal_3b7_chusaiReplace.csv', index=False)\n",
    "# "
   ]
  },
  {
   "cell_type": "code",
   "execution_count": 5,
   "metadata": {},
   "outputs": [],
   "source": [
    "# 使用0.589原本的结果与毛豫新+去异常后融合\n",
    "first=pd.read_csv('../rst/059_try_2b4b4.csv')\n",
    "second=pd.read_csv('../rst/myx_lgb_modelSale_abnormal.csv')\n",
    "submission = pd.DataFrame({\n",
    "    \"id\": first['id'], \n",
    "    \"forecastVolum\": (first['forecastVolum']*0.2855+second['forecastVolum']*0.7145).round().astype(int)\n",
    "})\n",
    "submission['forecastVolum'] = submission['forecastVolum'].apply(lambda x: 0 if x < 0 else x)#<0的结果变为0\n",
    "# 使用初赛结果替换上述结果\n",
    "chusai=pd.read_csv('../rst/059_chusai_hdl_replace.csv')\n",
    "mask=[(x in chusai.id.values) for x in fusai_0469.id.values]\n",
    "submission.loc[mask,'forecastVolum']=chusai['forecastVolum']\n",
    "\n",
    "submission.to_csv('../rst/0589_2b4b4_hdl_myx_lgb_modelSale_abnormal_3b7_chusaiReplace.csv', index=False)\n",
    "# "
   ]
  },
  {
   "cell_type": "code",
   "execution_count": 6,
   "metadata": {},
   "outputs": [],
   "source": [
    "# 使用0.589原本的结果与毛豫新+去异常后融合\n",
    "first=pd.read_csv('../rst/059_try_2b4b4.csv')\n",
    "second=pd.read_csv('../rst/myx_xgb_areaSale_abnormal.csv')\n",
    "submission = pd.DataFrame({\n",
    "    \"id\": first['id'], \n",
    "    \"forecastVolum\": (first['forecastVolum']*0.2855+second['forecastVolum']*0.7145).round().astype(int)\n",
    "})\n",
    "submission['forecastVolum'] = submission['forecastVolum'].apply(lambda x: 0 if x < 0 else x)#<0的结果变为0\n",
    "# 使用初赛结果替换上述结果\n",
    "chusai=pd.read_csv('../rst/059_chusai_hdl_replace.csv')\n",
    "mask=[(x in chusai.id.values) for x in fusai_0469.id.values]\n",
    "submission.loc[mask,'forecastVolum']=chusai['forecastVolum']\n",
    "\n",
    "submission.to_csv('../rst/0589_2b4b4_hdl_myx_xgb_areaSale_abnormal_3b7_chusaiReplace.csv', index=False)\n",
    "# "
   ]
  },
  {
   "cell_type": "code",
   "execution_count": 7,
   "metadata": {},
   "outputs": [],
   "source": [
    "# 使用0.589原本的结果与毛豫新+去异常后融合\n",
    "first=pd.read_csv('../rst/059_try_2b4b4.csv')\n",
    "second=pd.read_csv('../rst/myx_xgb_modelSale_abnormal.csv')\n",
    "submission = pd.DataFrame({\n",
    "    \"id\": first['id'], \n",
    "    \"forecastVolum\": (first['forecastVolum']*0.2855+second['forecastVolum']*0.7145).round().astype(int)\n",
    "})\n",
    "submission['forecastVolum'] = submission['forecastVolum'].apply(lambda x: 0 if x < 0 else x)#<0的结果变为0\n",
    "# 使用初赛结果替换上述结果\n",
    "chusai=pd.read_csv('../rst/059_chusai_hdl_replace.csv')\n",
    "mask=[(x in chusai.id.values) for x in fusai_0469.id.values]\n",
    "submission.loc[mask,'forecastVolum']=chusai['forecastVolum']\n",
    "\n",
    "submission.to_csv('../rst/0589_2b4b4_hdl_myx_xgb_modelSale_abnormal_3b7_chusaiReplace.csv', index=False)\n",
    "# "
   ]
  },
  {
   "cell_type": "code",
   "execution_count": 8,
   "metadata": {},
   "outputs": [],
   "source": [
    "# 使用0.62baseline与（0.589原本的结果与毛豫新融合）\n",
    "first=pd.read_csv('../rst/062_baseline_submit.csv')\n",
    "second=pd.read_csv('../rst/062_baseline_xgb.csv')\n",
    "third=pd.read_csv('../rst/0589_2b4b4_hdl_myx_lgb_areaSale_abnormal_3b7_chusaiReplace.csv')\n",
    "fourth=pd.read_csv('../rst/0589_2b4b4_hdl_myx_lgb_modelSale_abnormal_3b7_chusaiReplace.csv')\n",
    "fifth=pd.read_csv('../rst/0589_2b4b4_hdl_myx_xgb_areaSale_abnormal_3b7_chusaiReplace.csv')\n",
    "sixth=pd.read_csv('../rst/0589_2b4b4_hdl_myx_xgb_modelSale_abnormal_3b7_chusaiReplace.csv')\n",
    "submission = pd.DataFrame({\n",
    "    \"id\": first['id'], \n",
    "    \"forecastVolum\": ((first['forecastVolum']+second['forecastVolum'])*0.5*0.2855+((third['forecastVolum']+fourth['forecastVolum'])*0.4+(fifth['forecastVolum']+sixth['forecastVolum'])*0.6)*0.5*0.7145).round().astype(int)\n",
    "})\n",
    "submission['forecastVolum'] = submission['forecastVolum'].apply(lambda x: 0 if x < 0 else x)#<0的结果变为0\n",
    "# 使用初赛结果替换上述结果\n",
    "#chusai=pd.read_csv('E:/competition/ccf_car/gongzhen/rst/__main__0629_0624_refusion_7_3.csv')\n",
    "#mask=[(x in chusai.id.values) for x in fusai_0469.id.values]\n",
    "#submission.loc[mask,'forecastVolum']=chusai['forecastVolum']\n",
    "\n",
    "submission.to_csv('../rst/062base_xgb_lgb_0589_myx_area_model_lgb_xgb_hdl_chusaireplace_3b7.csv', index=False)\n",
    "#  0.567"
   ]
  },
  {
   "cell_type": "markdown",
   "metadata": {},
   "source": [
    "## 在0.599的基础上改"
   ]
  },
  {
   "cell_type": "code",
   "execution_count": 6,
   "metadata": {},
   "outputs": [],
   "source": [
    "# 使用0.589原本的结果与毛豫新+去异常后融合\n",
    "first=pd.read_csv('../rst/059_try_2b4b4.csv')\n",
    "second=pd.read_csv('../rst/myx_lgb_areaSale_abnormal.csv')\n",
    "submission = pd.DataFrame({\n",
    "    \"id\": first['id'], \n",
    "    \"forecastVolum\": (first['forecastVolum']*0.2855+second['forecastVolum']*0.7145).round().astype(int)\n",
    "})\n",
    "submission['forecastVolum'] = submission['forecastVolum'].apply(lambda x: 0 if x < 0 else x)#<0的结果变为0\n",
    "# 使用初赛结果替换上述结果\n",
    "chusai=pd.read_csv('../../ccf_car/gongzhen/rst/__main__0629_0624_refusion_7_3.csv')\n",
    "mask=[(x in chusai.id.values) for x in fusai_0469.id.values]\n",
    "submission.loc[mask,'forecastVolum']=chusai['forecastVolum']\n",
    "\n",
    "submission.to_csv('../rst/0589_2b4b4_myx_lgb_areaSale_abnormal_3b7_chusaiReplace.csv', index=False)\n",
    "# "
   ]
  },
  {
   "cell_type": "code",
   "execution_count": 7,
   "metadata": {},
   "outputs": [],
   "source": [
    "# 使用0.589原本的结果与毛豫新+去异常后融合\n",
    "first=pd.read_csv('../rst/059_try_2b4b4.csv')\n",
    "second=pd.read_csv('../rst/myx_lgb_modelSale_abnormal.csv')\n",
    "submission = pd.DataFrame({\n",
    "    \"id\": first['id'], \n",
    "    \"forecastVolum\": (first['forecastVolum']*0.2855+second['forecastVolum']*0.7145).round().astype(int)\n",
    "})\n",
    "submission['forecastVolum'] = submission['forecastVolum'].apply(lambda x: 0 if x < 0 else x)#<0的结果变为0\n",
    "# 使用初赛结果替换上述结果\n",
    "chusai=pd.read_csv('../../ccf_car/gongzhen/rst/__main__0629_0624_refusion_7_3.csv')\n",
    "mask=[(x in chusai.id.values) for x in fusai_0469.id.values]\n",
    "submission.loc[mask,'forecastVolum']=chusai['forecastVolum']\n",
    "\n",
    "submission.to_csv('../rst/0589_2b4b4_myx_lgb_modelSale_abnormal_3b7_chusaiReplace.csv', index=False)\n",
    "# "
   ]
  },
  {
   "cell_type": "code",
   "execution_count": 8,
   "metadata": {},
   "outputs": [],
   "source": [
    "# 使用0.589原本的结果与毛豫新+去异常后融合\n",
    "first=pd.read_csv('../rst/059_try_2b4b4.csv')\n",
    "second=pd.read_csv('../rst/myx_xgb_areaSale_abnormal.csv')\n",
    "submission = pd.DataFrame({\n",
    "    \"id\": first['id'], \n",
    "    \"forecastVolum\": (first['forecastVolum']*0.2855+second['forecastVolum']*0.7145).round().astype(int)\n",
    "})\n",
    "submission['forecastVolum'] = submission['forecastVolum'].apply(lambda x: 0 if x < 0 else x)#<0的结果变为0\n",
    "# 使用初赛结果替换上述结果\n",
    "chusai=pd.read_csv('../../ccf_car/gongzhen/rst/__main__0629_0624_refusion_7_3.csv')\n",
    "mask=[(x in chusai.id.values) for x in fusai_0469.id.values]\n",
    "submission.loc[mask,'forecastVolum']=chusai['forecastVolum']\n",
    "\n",
    "submission.to_csv('../rst/0589_2b4b4_myx_xgb_areaSale_abnormal_3b7_chusaiReplace.csv', index=False)\n",
    "# "
   ]
  },
  {
   "cell_type": "code",
   "execution_count": 9,
   "metadata": {},
   "outputs": [],
   "source": [
    "# 使用0.589原本的结果与毛豫新+去异常后融合\n",
    "first=pd.read_csv('../rst/059_try_2b4b4.csv')\n",
    "second=pd.read_csv('../rst/myx_xgb_modelSale_abnormal.csv')\n",
    "submission = pd.DataFrame({\n",
    "    \"id\": first['id'], \n",
    "    \"forecastVolum\": (first['forecastVolum']*0.2855+second['forecastVolum']*0.7145).round().astype(int)\n",
    "})\n",
    "submission['forecastVolum'] = submission['forecastVolum'].apply(lambda x: 0 if x < 0 else x)#<0的结果变为0\n",
    "# 使用初赛结果替换上述结果\n",
    "chusai=pd.read_csv('../../ccf_car/gongzhen/rst/__main__0629_0624_refusion_7_3.csv')\n",
    "mask=[(x in chusai.id.values) for x in fusai_0469.id.values]\n",
    "submission.loc[mask,'forecastVolum']=chusai['forecastVolum']\n",
    "\n",
    "submission.to_csv('../rst/0589_2b4b4_myx_xgb_modelSale_abnormal_3b7_chusaiReplace.csv', index=False)\n",
    "# "
   ]
  },
  {
   "cell_type": "code",
   "execution_count": 10,
   "metadata": {},
   "outputs": [],
   "source": [
    "# 使用0.62baseline与（0.589原本的结果与毛豫新融合）\n",
    "first=pd.read_csv('../rst/062_baseline_submit.csv')\n",
    "second=pd.read_csv('../rst/062_baseline_xgb.csv')\n",
    "third=pd.read_csv('../rst/0589_2b4b4_myx_lgb_areaSale_abnormal_3b7_chusaiReplace.csv')\n",
    "fourth=pd.read_csv('../rst/0589_2b4b4_myx_lgb_modelSale_abnormal_3b7_chusaiReplace.csv')\n",
    "fifth=pd.read_csv('../rst/0589_2b4b4_myx_xgb_areaSale_abnormal_3b7_chusaiReplace.csv')\n",
    "sixth=pd.read_csv('../rst/0589_2b4b4_myx_xgb_modelSale_abnormal_3b7_chusaiReplace.csv')\n",
    "submission = pd.DataFrame({\n",
    "    \"id\": first['id'], \n",
    "    \"forecastVolum\": ((first['forecastVolum']+second['forecastVolum'])*0.5*0.2855+((third['forecastVolum']+fourth['forecastVolum'])*0.4+(fifth['forecastVolum']+sixth['forecastVolum'])*0.6)*0.5*0.7145).round().astype(int)\n",
    "})\n",
    "submission['forecastVolum'] = submission['forecastVolum'].apply(lambda x: 0 if x < 0 else x)#<0的结果变为0\n",
    "# 使用初赛结果替换上述结果\n",
    "#chusai=pd.read_csv('E:/competition/ccf_car/gongzhen/rst/__main__0629_0624_refusion_7_3.csv')\n",
    "#mask=[(x in chusai.id.values) for x in fusai_0469.id.values]\n",
    "#submission.loc[mask,'forecastVolum']=chusai['forecastVolum']\n",
    "\n",
    "submission.to_csv('../rst/062base_xgb_lgb_0589_myx_area_model_lgb_xgb_chusaireplace_3b7.csv', index=False)\n",
    "#  0.59820944000 "
   ]
  },
  {
   "cell_type": "markdown",
   "metadata": {},
   "source": [
    "# 初赛"
   ]
  },
  {
   "cell_type": "code",
   "execution_count": 3,
   "metadata": {},
   "outputs": [],
   "source": [
    "# yulao0.51 and my best result fushion\n",
    "yulao=pd.read_csv('../rst/yulao_rst_051.csv')\n",
    "mine=pd.read_csv('../rst/stacking_lgb_0_46And0_49_rst_0.507.csv')\n",
    "submission = pd.DataFrame({\n",
    "    \"id\": mine['id'], \n",
    "    \"forecastVolum\": (yulao['forecastVolum']*0.6+mine['forecastVolum']*0.4).round().astype(int)\n",
    "})\n",
    "submission['forecastVolum'] = submission['forecastVolum'].apply(lambda x: 0 if x < 0 else x)#<0的结果变为0\n",
    "submission.to_csv('../rst/myBestAndYulao051_4bi6.csv', index=False)\n",
    "# 0.54457211"
   ]
  },
  {
   "cell_type": "code",
   "execution_count": 5,
   "metadata": {},
   "outputs": [],
   "source": [
    "# yulao0.51 and my best result fushion\n",
    "yulao=pd.read_csv('../rst/yulao_rst_051.csv')\n",
    "mine=pd.read_csv('../rst/stacking_lgb_0_46And0_49_rst_0.507.csv')\n",
    "submission = pd.DataFrame({\n",
    "    \"id\": mine['id'], \n",
    "    \"forecastVolum\": (yulao['forecastVolum']*0.7+mine['forecastVolum']*0.3).round().astype(int)\n",
    "})\n",
    "submission['forecastVolum'] = submission['forecastVolum'].apply(lambda x: 0 if x < 0 else x)#<0的结果变为0\n",
    "submission.to_csv('../rst/myBestAndYulao051_3bi7.csv', index=False)\n",
    "# 0.54135162000"
   ]
  },
  {
   "cell_type": "code",
   "execution_count": 5,
   "metadata": {},
   "outputs": [],
   "source": [
    "# yulao0.51 and my best result fushion\n",
    "yulao=pd.read_csv('../rst/yulao_rst_051.csv')\n",
    "mine=pd.read_csv('../rst/stacking_lgb_0_46And0_49_rst_0.507.csv')\n",
    "submission = pd.DataFrame({\n",
    "    \"id\": mine['id'], \n",
    "    \"forecastVolum\": (yulao['forecastVolum']*0.4+mine['forecastVolum']*0.6).round().astype(int)\n",
    "})\n",
    "submission['forecastVolum'] = submission['forecastVolum'].apply(lambda x: 0 if x < 0 else x)#<0的结果变为0\n",
    "submission.to_csv('../rst/myBestAndYulao051_6bi4.csv', index=False)\n",
    "# 0.54135162000"
   ]
  },
  {
   "cell_type": "code",
   "execution_count": 3,
   "metadata": {},
   "outputs": [],
   "source": [
    "# 0.54457211 and rolling、holiday、fix_NaN\n",
    "first=pd.read_csv('../rst/myBestAndYulao051_4bi6.csv')\n",
    "second=pd.read_csv('../rst/stacking_lgb_0_46And0_49_rst_0.507.csv')\n",
    "submission = pd.DataFrame({\n",
    "    \"id\": second['id'], \n",
    "    \"forecastVolum\": ((first['forecastVolum']*0.7+second['forecastVolum']*0.3)*0.95).round().astype(int)\n",
    "})\n",
    "submission['forecastVolum'] = submission['forecastVolum'].apply(lambda x: 0 if x < 0 else x)#<0的结果变为0\n",
    "submission.to_csv('../rst/054_rolling_holiday_fixNaN.csv', index=False)\n",
    "# 0.55198598"
   ]
  },
  {
   "cell_type": "code",
   "execution_count": 4,
   "metadata": {},
   "outputs": [],
   "source": [
    "# 0.54457211 and rolling、holiday、fix_NaN\n",
    "first=pd.read_csv('../rst/myBestAndYulao051_4bi6_054.csv')\n",
    "second=pd.read_csv('../rst/yueyueniao_submit.csv')\n",
    "submission = pd.DataFrame({\n",
    "    \"id\": second['id'], \n",
    "    \"forecastVolum\": ((first['forecastVolum']*0.8+second['forecastVolum']*0.2)*0.95).round().astype(int)\n",
    "})\n",
    "submission['forecastVolum'] = submission['forecastVolum'].apply(lambda x: 0 if x < 0 else x)#<0的结果变为0\n",
    "submission.to_csv('../rst/rst_0_54_yueyueniao.csv', index=False)\n",
    "# 0.56856430"
   ]
  },
  {
   "cell_type": "code",
   "execution_count": 2,
   "metadata": {},
   "outputs": [],
   "source": [
    "# 0.54457211 and rolling、holiday、fix_NaN\n",
    "first=pd.read_csv('../rst/yulao_063_CCF_sales.csv')\n",
    "second=pd.read_csv('../rst/rst_0_54_yueyueniao_056.csv')\n",
    "submission = pd.DataFrame({\n",
    "    \"id\": second['id'], \n",
    "    \"forecastVolum\": (first['forecastVolum']*0.8+second['forecastVolum']*0.2).round().astype(int)\n",
    "})\n",
    "submission['forecastVolum'] = submission['forecastVolum'].apply(lambda x: 0 if x < 0 else x)#<0的结果变为0\n",
    "submission.to_csv('../rst/yulaogai_0568.csv', index=False)\n",
    "# 0.57463115"
   ]
  },
  {
   "cell_type": "code",
   "execution_count": 4,
   "metadata": {},
   "outputs": [],
   "source": [
    "# 0.54457211 and rolling、holiday、fix_NaN\n",
    "first=pd.read_csv('../rst/yulaogai_0568_0.5746.csv')\n",
    "second=pd.read_csv('../rst/baseline0544.csv')\n",
    "submission = pd.DataFrame({\n",
    "    \"id\": second['id'], \n",
    "    \"forecastVolum\": (first['forecastVolum']*0.8+second['forecastVolum']*0.2).round().astype(int)\n",
    "})\n",
    "submission['forecastVolum'] = submission['forecastVolum'].apply(lambda x: 0 if x < 0 else x)#<0的结果变为0\n",
    "submission.to_csv('../rst/057_0544guizebaseline.csv', index=False)\n",
    "# 0.582536460"
   ]
  },
  {
   "cell_type": "code",
   "execution_count": 2,
   "metadata": {},
   "outputs": [],
   "source": [
    "# 0.54457211 and rolling、holiday、fix_NaN\n",
    "first=pd.read_csv('../rst/yulaogai_0568_0.5746.csv')\n",
    "second=pd.read_csv('../rst/baseline0544.csv')\n",
    "submission = pd.DataFrame({\n",
    "    \"id\": second['id'], \n",
    "    \"forecastVolum\": ((first['forecastVolum']*0.7+second['forecastVolum']*0.3)).round().astype(int)\n",
    "})\n",
    "submission['forecastVolum'] = submission['forecastVolum'].apply(lambda x: 0 if x < 0 else x)#<0的结果变为0\n",
    "submission.to_csv('../rst/057_0544guizebaseline_7bi3.csv', index=False)\n",
    "# 0.58354950"
   ]
  },
  {
   "cell_type": "code",
   "execution_count": 3,
   "metadata": {},
   "outputs": [],
   "source": [
    "# 阿道刷刷0.57与上述7:3的0.58结果的融合\n",
    "first=pd.read_csv('../rst/057_0544guizebaseline_7bi3.csv')\n",
    "second=pd.read_csv('../rst/057_baseline_df_lgb.csv')\n",
    "submission = pd.DataFrame({\n",
    "    \"id\": second['id'], \n",
    "    \"forecastVolum\": ((first['forecastVolum']*0.6+second['ad_ry_mean']*0.4)).round().astype(int)\n",
    "})\n",
    "submission['forecastVolum'] = submission['forecastVolum'].apply(lambda x: 0 if x < 0 else x)#<0的结果变为0\n",
    "submission.to_csv('../rst/057_05835_4bi6.csv', index=False)\n",
    "# 0.59093446"
   ]
  },
  {
   "cell_type": "code",
   "execution_count": 4,
   "metadata": {},
   "outputs": [],
   "source": [
    "# 阿道刷刷0.57与上述6:4的0.58结果的融合\n",
    "first=pd.read_csv('../rst/057_0544guizebaseline_7bi3.csv')\n",
    "second=pd.read_csv('../rst/057_baseline_df_lgb.csv')\n",
    "submission = pd.DataFrame({\n",
    "    \"id\": second['id'], \n",
    "    \"forecastVolum\": ((first['forecastVolum']*0.7+second['ad_ry_mean']*0.3)).round().astype(int)\n",
    "})\n",
    "submission['forecastVolum'] = submission['forecastVolum'].apply(lambda x: 0 if x < 0 else x)#<0的结果变为0\n",
    "submission.to_csv('../rst/057_05835_3bi7.csv', index=False)\n",
    "# 0.59111542"
   ]
  },
  {
   "cell_type": "code",
   "execution_count": 5,
   "metadata": {},
   "outputs": [],
   "source": [
    "# 阿道刷刷0.57与上述7:3的0.58结果的融合\n",
    "first=pd.read_csv('../rst/057_0544guizebaseline_7bi3.csv')\n",
    "second=pd.read_csv('../rst/057_baseline_df_lgb.csv')\n",
    "submission = pd.DataFrame({\n",
    "    \"id\": second['id'], \n",
    "    \"forecastVolum\": ((second['md_ry_mean']*0.371+second['ad_ry_mean']*0.3145+second['bt_ry_mean']*0.3145)).round().astype(int)\n",
    "})\n",
    "submission['forecastVolum'] = submission['forecastVolum'].apply(lambda x: 0 if x < 0 else x)#<0的结果变为0\n",
    "submission.to_csv('../rst/057_37bi31bi31.csv', index=False)\n",
    "# 0.57051927"
   ]
  },
  {
   "cell_type": "code",
   "execution_count": 5,
   "metadata": {},
   "outputs": [],
   "source": [
    "# 阿道刷刷0.57 shift5与上述6:4的0.58结果的融合\n",
    "first=pd.read_csv('../rst/057_0544guizebaseline_7bi3.csv')\n",
    "second=pd.read_csv('../rst/057_baseline_df_lgb_all_log_shift5.csv')\n",
    "submission = pd.DataFrame({\n",
    "    \"id\": second['id'], \n",
    "    \"forecastVolum\": ((first['forecastVolum']*0.4+first['forecastVolum']*0.3+second['ad_ry_mean']*0.3)).round().astype(int)\n",
    "})\n",
    "submission['forecastVolum'] = submission['forecastVolum'].apply(lambda x: 0 if x < 0 else x)#<0的结果变为0\n",
    "submission.to_csv('../rst/057_shift5_4_3_05835_3bi7.csv', index=False)\n",
    "# 0.59150100"
   ]
  },
  {
   "cell_type": "code",
   "execution_count": 5,
   "metadata": {},
   "outputs": [],
   "source": [
    "# 阿道刷刷0.57 shift5\n",
    "first=pd.read_csv('../rst/057_0544guizebaseline_7bi3.csv')\n",
    "second=pd.read_csv('../rst/057_baseline_df_lgb_all_log_shift5.csv')\n",
    "submission = pd.DataFrame({\n",
    "    \"id\": second['id'], \n",
    "    \"forecastVolum\": (first['forecastVolum']*0.7+first['forecastVolum']*0.3).round().astype(int)\n",
    "})\n",
    "submission['forecastVolum'] = submission['forecastVolum'].apply(lambda x: 0 if x < 0 else x)#<0的结果变为0\n",
    "submission.to_csv('../rst/057_shift5_4_3.csv', index=False)\n",
    "#0.583"
   ]
  },
  {
   "cell_type": "code",
   "execution_count": 6,
   "metadata": {},
   "outputs": [],
   "source": [
    "# 阿道刷刷0.57 shift5\n",
    "first=pd.read_csv('../rst/057_shift5_4_3.csv')\n",
    "second=pd.read_csv('../rst/057_shift5_4_3_05835_3bi7.csv')\n",
    "submission = pd.DataFrame({\n",
    "    \"id\": second['id'], \n",
    "    \"forecastVolum\": (first['forecastVolum']*0.7+second['forecastVolum']*0.3).round().astype(int)\n",
    "})\n",
    "submission['forecastVolum'] = submission['forecastVolum'].apply(lambda x: 0 if x < 0 else x)#<0的结果变为0\n",
    "submission.to_csv('../rst/057_shift5_4_3_stackingWith05915.csv', index=False)\n",
    "#0.583"
   ]
  },
  {
   "cell_type": "code",
   "execution_count": 10,
   "metadata": {},
   "outputs": [],
   "source": [
    "# 阿道刷刷0.57 shift145\n",
    "first=pd.read_csv('../rst/057_baseline_df_lgb_all_log_shift145.csv')\n",
    "second=pd.read_csv('../rst/057_baseline_df_lgb_all_log_shift5.csv')\n",
    "submission = pd.DataFrame({\n",
    "    \"id\": second['id'], \n",
    "    \"forecastVolum\": (first['ad_ry_mean']*0.7+first['md_ry_mean']*0.3).round().astype(int)\n",
    "})\n",
    "submission['forecastVolum'] = submission['forecastVolum'].apply(lambda x: 0 if x < 0 else x)#<0的结果变为0\n",
    "submission.to_csv('../rst/057_shift145_4_3.csv', index=False)\n",
    "#0.1578462"
   ]
  },
  {
   "cell_type": "code",
   "execution_count": 12,
   "metadata": {},
   "outputs": [],
   "source": [
    "# 阿道刷刷0.57 shift5 和xgb融合\n",
    "first=pd.read_csv('../rst/057_shift5_4_3.csv')\n",
    "second=pd.read_csv('../rst/xgb057modelresult.csv')\n",
    "submission = pd.DataFrame({\n",
    "    \"id\": second['id'], \n",
    "    \"forecastVolum\": (first['forecastVolum']*0.8+second['md_ry_mean']*0.2).round().astype(int)\n",
    "})\n",
    "submission['forecastVolum'] = submission['forecastVolum'].apply(lambda x: 0 if x < 0 else x)#<0的结果变为0\n",
    "submission.to_csv('../rst/057_shift5_4_3_lgbwithxgb.csv', index=False)\n",
    "#0.59237719"
   ]
  },
  {
   "cell_type": "code",
   "execution_count": 7,
   "metadata": {},
   "outputs": [],
   "source": [
    "# 阿道刷刷0.57 shift4\n",
    "first=pd.read_csv('../rst/057_baseline_df_lgb_all_log_shift4_yulao.csv')\n",
    "second=pd.read_csv('../rst/057_baseline_df_lgb_all_log_shift5.csv')\n",
    "submission = pd.DataFrame({\n",
    "    \"id\": second['id'], \n",
    "    \"forecastVolum\": (first['ad_ry_mean']*0.7+first['md_ry_mean']*0.3).round().astype(int)\n",
    "})\n",
    "submission['forecastVolum'] = submission['forecastVolum'].apply(lambda x: 0 if x < 0 else x)#<0的结果变为0\n",
    "submission.to_csv('../rst/057_shift4_yulao_7_3.csv', index=False)\n",
    "#0.57611197"
   ]
  },
  {
   "cell_type": "code",
   "execution_count": 9,
   "metadata": {},
   "outputs": [],
   "source": [
    "# 阿道刷刷0.57 shift4+yulao规则改进shift4与上述6:4的0.58结果的融合\n",
    "first=pd.read_csv('../rst/057_0544guizebaseline_7bi3.csv')\n",
    "second=pd.read_csv('../rst/057_shift4_yulao_7_3.csv')\n",
    "submission = pd.DataFrame({\n",
    "    \"id\": second['id'], \n",
    "    \"forecastVolum\": ((first['forecastVolum']*0.7+second['forecastVolum']*0.3)).round().astype(int)\n",
    "})\n",
    "submission['forecastVolum'] = submission['forecastVolum'].apply(lambda x: 0 if x < 0 else x)#<0的结果变为0\n",
    "submission.to_csv('../rst/057_shift4AndGuize_05835_3bi7.csv', index=False)\n",
    "# 0.59933025"
   ]
  },
  {
   "cell_type": "code",
   "execution_count": 4,
   "metadata": {},
   "outputs": [],
   "source": [
    "# 阿道刷刷0.57 shift145\n",
    "first=pd.read_csv('../rst/duan_xgb057modelresult.csv')\n",
    "second=pd.read_csv('../rst/057_baseline_df_lgb_all_log_shift5.csv')\n",
    "submission = pd.DataFrame({\n",
    "    \"id\": second['id'], \n",
    "    \"forecastVolum\": (first['ad_ry_mean']*0.2+first['md_ry_mean']*0.4+first['bt_ry_mean']*0.4).round().astype(int)\n",
    "})\n",
    "submission['forecastVolum'] = submission['forecastVolum'].apply(lambda x: 0 if x < 0 else x)#<0的结果变为0\n",
    "submission.to_csv('../rst/duan_xgb057model_onehot.csv', index=False)\n",
    "# 0.53041857000 "
   ]
  },
  {
   "cell_type": "code",
   "execution_count": 5,
   "metadata": {},
   "outputs": [],
   "source": [
    "# 阿道刷刷0.57 shift4+yulao规则改进shift4与上述6:4的0.58结果的融合\n",
    "first=pd.read_csv('../rst/057_shift4AndGuize_05835_3bi7.csv')\n",
    "second=pd.read_csv('../rst/duan_xgb057model_onehot.csv')\n",
    "submission = pd.DataFrame({\n",
    "    \"id\": second['id'], \n",
    "    \"forecastVolum\": ((first['forecastVolum']*0.7+second['forecastVolum']*0.3)).round().astype(int)\n",
    "})\n",
    "submission['forecastVolum'] = submission['forecastVolum'].apply(lambda x: 0 if x < 0 else x)#<0的结果变为0\n",
    "submission.to_csv('../rst/0599_xgb_7bi3.csv', index=False)\n",
    "# 0.60115552"
   ]
  },
  {
   "cell_type": "code",
   "execution_count": 6,
   "metadata": {},
   "outputs": [],
   "source": [
    "# 阿道刷刷0.57 shift4+yulao规则改进shift4与xgb的融合\n",
    "first=pd.read_csv('../rst/057_shift4AndGuize_05835_3bi7.csv')\n",
    "second=pd.read_csv('../rst/duan_xgb057model_onehot.csv')\n",
    "submission = pd.DataFrame({\n",
    "    \"id\": second['id'], \n",
    "    \"forecastVolum\": ((first['forecastVolum']*0.6+second['forecastVolum']*0.4)).round().astype(int)\n",
    "})\n",
    "submission['forecastVolum'] = submission['forecastVolum'].apply(lambda x: 0 if x < 0 else x)#<0的结果变为0\n",
    "submission.to_csv('../rst/0599_xgb_6bi4.csv', index=False)\n",
    "# 0.59742486"
   ]
  },
  {
   "cell_type": "code",
   "execution_count": 2,
   "metadata": {},
   "outputs": [],
   "source": [
    "# 阿道刷刷0.57 shift4 mul_popularity\n",
    "first=pd.read_csv('../rst/057_baseline_df_lgb_all_log_shift4_mul_popularity.csv')\n",
    "second=pd.read_csv('../rst/057_baseline_df_lgb_all_log_shift5.csv')\n",
    "submission = pd.DataFrame({\n",
    "    \"id\": second['id'], \n",
    "    \"forecastVolum\": (first['ad_ry_mean']*0.7+first['md_ry_mean']*0.3).round().astype(int)\n",
    "})\n",
    "submission['forecastVolum'] = submission['forecastVolum'].apply(lambda x: 0 if x < 0 else x)#<0的结果变为0\n",
    "submission.to_csv('../rst/057_shift4_mul_popularity.csv', index=False)\n",
    "# 0.56256711"
   ]
  },
  {
   "cell_type": "code",
   "execution_count": 3,
   "metadata": {},
   "outputs": [],
   "source": [
    "# 0.60115552与上述0.56256711mul_popularity的融合\n",
    "first=pd.read_csv('../rst/0599_xgb_7bi3.csv')\n",
    "second=pd.read_csv('../rst/057_shift4_mul_popularity.csv')\n",
    "submission = pd.DataFrame({\n",
    "    \"id\": second['id'], \n",
    "    \"forecastVolum\": ((first['forecastVolum']*0.7+second['forecastVolum']*0.3)).round().astype(int)\n",
    "})\n",
    "submission['forecastVolum'] = submission['forecastVolum'].apply(lambda x: 0 if x < 0 else x)#<0的结果变为0\n",
    "submission.to_csv('../rst/0601_mulpopularity_7bi3.csv', index=False)"
   ]
  },
  {
   "cell_type": "code",
   "execution_count": 4,
   "metadata": {},
   "outputs": [],
   "source": [
    "# 阿道刷刷0.57 shift4 popularityShift1\n",
    "first=pd.read_csv('../rst/057_baseline_df_lgb_all_log_shift4_popularityShift1.csv')\n",
    "second=pd.read_csv('../rst/057_baseline_df_lgb_all_log_shift5.csv')\n",
    "submission = pd.DataFrame({\n",
    "    \"id\": second['id'], \n",
    "    \"forecastVolum\": (first['ad_ry_mean']*0.7+first['md_ry_mean']*0.3).round().astype(int)\n",
    "})\n",
    "submission['forecastVolum'] = submission['forecastVolum'].apply(lambda x: 0 if x < 0 else x)#<0的结果变为0\n",
    "submission.to_csv('../rst/057_shift4_popularityShift1.csv', index=False)\n",
    "# 0.57194883"
   ]
  },
  {
   "cell_type": "code",
   "execution_count": 4,
   "metadata": {},
   "outputs": [],
   "source": [
    "# 阿道刷刷0.57 shift5\n",
    "first=pd.read_csv('../rst/057_baseline_df_lgb_all_log_shift4_popularityShift1_abnormal.csv')\n",
    "second=pd.read_csv('../rst/057_shift5_4_3_05835_3bi7.csv')\n",
    "submission = pd.DataFrame({\n",
    "    \"id\": second['id'], \n",
    "    \"forecastVolum\": (first['ad_ry_mean']*0.7+first['md_ry_mean']*0.3).round().astype(int)\n",
    "})\n",
    "submission['forecastVolum'] = submission['forecastVolum'].apply(lambda x: 0 if x < 0 else x)#<0的结果变为0\n",
    "submission.to_csv('../rst/057_shift4_popularityShift1_abnormal.csv', index=False)\n",
    "#0.57844985"
   ]
  },
  {
   "cell_type": "code",
   "execution_count": 5,
   "metadata": {},
   "outputs": [],
   "source": [
    "# 阿道刷刷0.57 shift5\n",
    "first=pd.read_csv('../rst/057_baseline_df_lgb_all_log_shift4_abnormal.csv')\n",
    "second=pd.read_csv('../rst/057_shift5_4_3_05835_3bi7.csv')\n",
    "submission = pd.DataFrame({\n",
    "    \"id\": second['id'], \n",
    "    \"forecastVolum\": (first['ad_ry_mean']*0.7+first['md_ry_mean']*0.3).round().astype(int)\n",
    "})\n",
    "submission['forecastVolum'] = submission['forecastVolum'].apply(lambda x: 0 if x < 0 else x)#<0的结果变为0\n",
    "submission.to_csv('../rst/057_shift4_abnormal.csv', index=False)\n",
    "#0.57962567"
   ]
  },
  {
   "cell_type": "code",
   "execution_count": 9,
   "metadata": {},
   "outputs": [],
   "source": [
    "# 阿道刷刷0.57 shift5\n",
    "first=pd.read_csv('../rst/057_baseline_df_lgb_all_log_shift4_popularityShift1_abnormal_wzm.csv')\n",
    "second=pd.read_csv('../rst/057_shift5_4_3_05835_3bi7.csv')\n",
    "submission = pd.DataFrame({\n",
    "    \"id\": second['id'], \n",
    "    \"forecastVolum\": (first['ad_ry_mean']*0.7+first['md_ry_mean']*0.3).round().astype(int)\n",
    "})\n",
    "submission['forecastVolum'] = submission['forecastVolum'].apply(lambda x: 0 if x < 0 else x)#<0的结果变为0\n",
    "submission.to_csv('../rst/057_shift4_abnormal_wzm_095.csv', index=False)\n",
    "# 0.56659156"
   ]
  },
  {
   "cell_type": "code",
   "execution_count": 10,
   "metadata": {},
   "outputs": [],
   "source": [
    "# 阿道刷刷0.57 shift5\n",
    "first=pd.read_csv('../rst/057_baseline_df_lgb_all_log_shift4_abnormal_mean.csv')\n",
    "second=pd.read_csv('../rst/057_shift5_4_3_05835_3bi7.csv')\n",
    "submission = pd.DataFrame({\n",
    "    \"id\": second['id'], \n",
    "    \"forecastVolum\": (first['ad_ry_mean']*0.7+first['md_ry_mean']*0.3).round().astype(int)\n",
    "})\n",
    "submission['forecastVolum'] = submission['forecastVolum'].apply(lambda x: 0 if x < 0 else x)#<0的结果变为0\n",
    "submission.to_csv('../rst/057_shift4_abnormal_mean.csv', index=False)\n",
    "# 0.56659156"
   ]
  },
  {
   "cell_type": "code",
   "execution_count": 23,
   "metadata": {},
   "outputs": [],
   "source": [
    "# 阿道刷刷0.57 shift4 9分位数\n",
    "first=pd.read_csv('../rst/057_baseline_df_lgb_all_log_shift4_abnormal_95_9.csv')\n",
    "second=pd.read_csv('../rst/057_shift5_4_3_05835_3bi7.csv')\n",
    "submission = pd.DataFrame({\n",
    "    \"id\": second['id'], \n",
    "    \"forecastVolum\": (first['ad_ry_mean']*0.7+first['md_ry_mean']*0.3).round().astype(int)\n",
    "})\n",
    "submission['forecastVolum'] = submission['forecastVolum'].apply(lambda x: 0 if x < 0 else x)#<0的结果变为0\n",
    "submission.to_csv('../rst/057_shift4_abnormal_95_9.csv', index=False)\n",
    "# 0.58973169000\n",
    "# 9分位数，group[group > group.quantile(.9)] = group.quantile(.9)"
   ]
  },
  {
   "cell_type": "code",
   "execution_count": 13,
   "metadata": {},
   "outputs": [],
   "source": [
    "# 阿道刷刷0.57 shift4 9分位数\n",
    "first=pd.read_csv('../rst/057_baseline_df_lgb_all_log_shift4_abnormal_95_9_05_1.csv')\n",
    "second=pd.read_csv('../rst/057_shift5_4_3_05835_3bi7.csv')\n",
    "submission = pd.DataFrame({\n",
    "    \"id\": second['id'], \n",
    "    \"forecastVolum\": (first['ad_ry_mean']*0.7+first['md_ry_mean']*0.3).round().astype(int)\n",
    "})\n",
    "submission['forecastVolum'] = submission['forecastVolum'].apply(lambda x: 0 if x < 0 else x)#<0的结果变为0\n",
    "submission.to_csv('../rst/057_shift4_abnormal_95_9_05_1.csv', index=False)\n",
    "# 0.58786279\n",
    "# 90分位数，group[group > group.quantile(.9)] = group.quantile(.9)\n",
    "# 10分位数，group[group < group.quantile(.1)] = group.quantile(.1)"
   ]
  },
  {
   "cell_type": "code",
   "execution_count": 14,
   "metadata": {},
   "outputs": [],
   "source": [
    "# 阿道刷刷0.57 shift4 xgb 9分位数\n",
    "first=pd.read_csv('../rst/duan_xgb057modelresult_abnormal_9_05.csv')\n",
    "second=pd.read_csv('../rst/057_shift5_4_3_05835_3bi7.csv')\n",
    "submission = pd.DataFrame({\n",
    "    \"id\": second['id'], \n",
    "    \"forecastVolum\": (first['ad_ry_mean']*0.7+first['md_ry_mean']*0.3).round().astype(int)\n",
    "})\n",
    "submission['forecastVolum'] = submission['forecastVolum'].apply(lambda x: 0 if x < 0 else x)#<0的结果变为0\n",
    "submission.to_csv('../rst/057_shift4_xgb_abnormal_95_9_05_1.csv', index=False)\n",
    "# 0.53770167\n",
    "# 90分位数，group[group > group.quantile(.9)] = group.quantile(.9)\n",
    "# 10分位数，group[group < group.quantile(.1)] = group.quantile(.1)"
   ]
  },
  {
   "cell_type": "code",
   "execution_count": 15,
   "metadata": {},
   "outputs": [],
   "source": [
    "# 0.58973169abnormal_9_05与0.53770167xgb abnormal的融合\n",
    "first=pd.read_csv('../rst/057_shift4_abnormal_95_9.csv')\n",
    "second=pd.read_csv('../rst/057_shift4_xgb_abnormal_95_9_05_1.csv')\n",
    "submission = pd.DataFrame({\n",
    "    \"id\": second['id'], \n",
    "    \"forecastVolum\": ((first['forecastVolum']*0.7+second['forecastVolum']*0.3)).round().astype(int)\n",
    "})\n",
    "submission['forecastVolum'] = submission['forecastVolum'].apply(lambda x: 0 if x < 0 else x)#<0的结果变为0\n",
    "submission.to_csv('../rst/lgb_xgb_abnormal_7bi3.csv', index=False)\n",
    "# 0.58842033"
   ]
  },
  {
   "cell_type": "code",
   "execution_count": 16,
   "metadata": {},
   "outputs": [],
   "source": [
    "# 0.58973169abnormal_9_05与0.6011的融合\n",
    "first=pd.read_csv('../rst/057_shift4_abnormal_95_9.csv')\n",
    "second=pd.read_csv('../rst/0599_xgb_7bi3.csv')\n",
    "submission = pd.DataFrame({\n",
    "    \"id\": second['id'], \n",
    "    \"forecastVolum\": ((first['forecastVolum']*0.7+second['forecastVolum']*0.3)).round().astype(int)\n",
    "})\n",
    "submission['forecastVolum'] = submission['forecastVolum'].apply(lambda x: 0 if x < 0 else x)#<0的结果变为0\n",
    "submission.to_csv('../rst/057_lgb_abnormal_06011_7bi3.csv', index=False)"
   ]
  },
  {
   "cell_type": "code",
   "execution_count": 17,
   "metadata": {},
   "outputs": [],
   "source": [
    "# 0.58973169abnormal_9_05与0.6011的融合\n",
    "first=pd.read_csv('../rst/057_shift4_abnormal_95_9.csv')\n",
    "second=pd.read_csv('../rst/0599_xgb_7bi3.csv')\n",
    "submission = pd.DataFrame({\n",
    "    \"id\": second['id'], \n",
    "    \"forecastVolum\": ((first['forecastVolum']*0.3+second['forecastVolum']*0.7)).round().astype(int)\n",
    "})\n",
    "submission['forecastVolum'] = submission['forecastVolum'].apply(lambda x: 0 if x < 0 else x)#<0的结果变为0\n",
    "submission.to_csv('../rst/057_lgb_abnormal_06011_3bi7.csv', index=False)\n",
    "# 0.6033836"
   ]
  },
  {
   "cell_type": "code",
   "execution_count": 25,
   "metadata": {},
   "outputs": [],
   "source": [
    "# 阿道刷刷0.57 shift4 abnormal 9分位数+yulao规则改进shift4与上述6:4的0.5835结果的融合\n",
    "first=pd.read_csv('../rst/057_shift4_abnormal_95_9.csv')\n",
    "second=pd.read_csv('../rst/057_0544guizebaseline_7bi3.csv')\n",
    "submission = pd.DataFrame({\n",
    "    \"id\": second['id'], \n",
    "    \"forecastVolum\": ((first['forecastVolum']*0.7+second['forecastVolum']*0.3)).round().astype(int)\n",
    "})\n",
    "submission['forecastVolum'] = submission['forecastVolum'].apply(lambda x: 0 if x < 0 else x)#<0的结果变为0\n",
    "submission.to_csv('../rst/057_shift4_abnormal_05835_7bi3.csv', index=False)\n",
    "# 0.6023"
   ]
  },
  {
   "cell_type": "code",
   "execution_count": 32,
   "metadata": {},
   "outputs": [],
   "source": [
    "# 阿道刷刷0.57 shift4+yulao规则改进shift4+abnormal与0.53xgb结果的融合\n",
    "first=pd.read_csv('../rst/057_shift4_abnormal_05835_7bi3.csv')\n",
    "second=pd.read_csv('../rst/057_shift4_xgb_abnormal_95_9_05_1.csv')\n",
    "submission = pd.DataFrame({\n",
    "    \"id\": second['id'], \n",
    "    \"forecastVolum\": ((first['forecastVolum']*0.85+second['forecastVolum']*0.15)).round().astype(int)\n",
    "})\n",
    "submission['forecastVolum'] = submission['forecastVolum'].apply(lambda x: 0 if x < 0 else x)#<0的结果变为0\n",
    "submission.to_csv('../rst/06023_xgb_abnormal_85bi15.csv', index=False)\n",
    "# 0.6015597"
   ]
  },
  {
   "cell_type": "code",
   "execution_count": 4,
   "metadata": {},
   "outputs": [],
   "source": [
    "# 阿道刷刷0.57 shift4 9分位数\n",
    "first=pd.read_csv('../rst/057_baseline_df_lgb_all_log_shift4_abnormal_95_9_05_1_reply_mean.csv')\n",
    "second=pd.read_csv('../rst/057_shift5_4_3_05835_3bi7.csv')\n",
    "submission = pd.DataFrame({\n",
    "    \"id\": second['id'], \n",
    "    \"forecastVolum\": (first['ad_ry_mean']*0.33+first['md_ry_mean']*0.33+first['bt_ry_mean']*0.34).round().astype(int)\n",
    "})\n",
    "submission['forecastVolum'] = submission['forecastVolum'].apply(lambda x: 0 if x < 0 else x)#<0的结果变为0\n",
    "submission.to_csv('../rst/057_shift4_abnormal_95_9_reply_mean.csv', index=False)\n",
    "# 0.58973169000\n",
    "# 9分位数，group[group > group.quantile(.9)] = group.quantile(.9)"
   ]
  },
  {
   "cell_type": "code",
   "execution_count": 2,
   "metadata": {},
   "outputs": [],
   "source": [
    "# 阿道刷刷0.57 shift4+yulao规则改进shift4+abnormal与0.53xgb结果的融合\n",
    "first=pd.read_csv('../rst/057_shift4_abnormal_95_9.csv')\n",
    "second=pd.read_csv('../rst/qs_submit.csv')\n",
    "submission = pd.DataFrame({\n",
    "    \"id\": second['id'], \n",
    "    \"forecastVolum\": ((first['forecastVolum']*0.7+second['forecastVolum']*0.3)).round().astype(int)\n",
    "})\n",
    "submission['forecastVolum'] = submission['forecastVolum'].apply(lambda x: 0 if x < 0 else x)#<0的结果变为0\n",
    "submission.to_csv('../rst/0589_qs_fusion.csv', index=False)\n",
    "# 0.60819638"
   ]
  },
  {
   "cell_type": "code",
   "execution_count": 3,
   "metadata": {},
   "outputs": [],
   "source": [
    "# 阿道刷刷0.57 shift4+yulao规则改进shift4+abnormal与0.53xgb结果的融合\n",
    "first=pd.read_csv('../rst/057_lgb_abnormal_06011_3bi7.csv')\n",
    "second=pd.read_csv('../rst/qs_submit.csv')\n",
    "submission = pd.DataFrame({\n",
    "    \"id\": second['id'], \n",
    "    \"forecastVolum\": ((first['forecastVolum']*0.7+second['forecastVolum']*0.3)).round().astype(int)\n",
    "})\n",
    "submission['forecastVolum'] = submission['forecastVolum'].apply(lambda x: 0 if x < 0 else x)#<0的结果变为0\n",
    "submission.to_csv('../rst/0603_qs_fusion.csv', index=False)\n",
    "# 0.61319709"
   ]
  },
  {
   "cell_type": "code",
   "execution_count": 4,
   "metadata": {},
   "outputs": [],
   "source": [
    "# 阿道刷刷0.57 shift4+yulao规则改进shift4+abnormal与0.53xgb结果的融合\n",
    "first=pd.read_csv('../rst/057_lgb_abnormal_06011_3bi7.csv')\n",
    "second=pd.read_csv('../rst/qs_submit.csv')\n",
    "submission = pd.DataFrame({\n",
    "    \"id\": second['id'], \n",
    "    \"forecastVolum\": ((first['forecastVolum']*0.8+second['forecastVolum']*0.2)).round().astype(int)\n",
    "})\n",
    "submission['forecastVolum'] = submission['forecastVolum'].apply(lambda x: 0 if x < 0 else x)#<0的结果变为0\n",
    "submission.to_csv('../rst/0603_qs_fusion_8_2.csv', index=False)\n",
    "# 0.61319709"
   ]
  },
  {
   "cell_type": "code",
   "execution_count": 2,
   "metadata": {},
   "outputs": [],
   "source": [
    "# 阿道刷刷0.57 shift4+yulao规则改进shift4+abnormal与0.53xgb结果的融合\n",
    "first=pd.read_csv('../rst/0603_qs_fusion.csv')\n",
    "second=pd.read_csv('../rst/myx_060.csv')\n",
    "submission = pd.DataFrame({\n",
    "    \"id\": second['id'], \n",
    "    \"forecastVolum\": ((first['forecastVolum']*0.7+second['forecastVolum']*0.3)).round().astype(int)\n",
    "})\n",
    "submission['forecastVolum'] = submission['forecastVolum'].apply(lambda x: 0 if x < 0 else x)#<0的结果变为0\n",
    "submission.to_csv('../rst/0613_myx060_7_3.csv', index=False)\n",
    "# 0.624"
   ]
  },
  {
   "cell_type": "code",
   "execution_count": 5,
   "metadata": {},
   "outputs": [],
   "source": [
    "# 阿道刷刷0.57 shift4 9分位数 乱七八糟的特征全加上去了，用的原本的code，不是自己改的\n",
    "first=pd.read_csv('../rst/057_baseline_luanqibazao.csv')\n",
    "second=pd.read_csv('../rst/057_shift5_4_3_05835_3bi7.csv')\n",
    "submission = pd.DataFrame({\n",
    "    \"id\": second['id'], \n",
    "    \"forecastVolum\": (first['ad_ry_mean']*0.33+first['md_ry_mean']*0.33+first['bt_ry_mean']*0.34).round().astype(int)\n",
    "})\n",
    "submission['forecastVolum'] = submission['forecastVolum'].apply(lambda x: 0 if x < 0 else x)#<0的结果变为0\n",
    "submission.to_csv('../rst/057_lqbz.csv', index=False)\n",
    "# 0.62410885000\n",
    "# 9分位数，group[group > group.quantile(.9)] = group.quantile(.9)"
   ]
  },
  {
   "cell_type": "code",
   "execution_count": 4,
   "metadata": {},
   "outputs": [],
   "source": [
    "# 与曲硕融合的0.624与自己的0.624融合\n",
    "first=pd.read_csv('../rst/0613_myx060_7_3.csv')\n",
    "second=pd.read_csv('../rst/057_lqbz.csv')\n",
    "submission = pd.DataFrame({\n",
    "    \"id\": second['id'], \n",
    "    \"forecastVolum\": ((first['forecastVolum']*0.5+second['forecastVolum']*0.5)).round().astype(int)\n",
    "})\n",
    "submission['forecastVolum'] = submission['forecastVolum'].apply(lambda x: 0 if x < 0 else x)#<0的结果变为0\n",
    "submission.to_csv('../rst/0624_myx_and_luanqibazao_5_5.csv', index=False)\n",
    "# 0.624"
   ]
  },
  {
   "cell_type": "code",
   "execution_count": 9,
   "metadata": {},
   "outputs": [],
   "source": [
    "# 阿道刷刷0.57 shift4 9分位数 乱七八糟的特征全加上去了，用的原本的code，不是自己改的\n",
    "first=pd.read_csv('../rst/057_baseline_luanqibazao_quanguize.csv')\n",
    "second=pd.read_csv('../rst/057_shift5_4_3_05835_3bi7.csv')\n",
    "submission = pd.DataFrame({\n",
    "    \"id\": second['id'], \n",
    "    \"forecastVolum\": (first['ad_ry_mean']*0.33+first['md_ry_mean']*0.33+first['bt_ry_mean']*0.34).round().astype(int)\n",
    "})\n",
    "submission['forecastVolum'] = submission['forecastVolum'].apply(lambda x: 0 if x < 0 else x)#<0的结果变为0\n",
    "submission.to_csv('../rst/057_lqbz_quanguize.csv', index=False)\n",
    "# 0.62410885000\n",
    "# 9分位数，group[group > group.quantile(.9)] = group.quantile(.9)"
   ]
  },
  {
   "cell_type": "code",
   "execution_count": 2,
   "metadata": {},
   "outputs": [],
   "source": [
    "# 与曲硕融合的0.624与自己的0.624融合\n",
    "first=pd.read_csv('../rst/0624_myx_and_luanqibazao_5_5.csv')\n",
    "second=pd.read_csv('../rst/057_lqbz.csv')\n",
    "submission = pd.DataFrame({\n",
    "    \"id\": second['id'], \n",
    "    \"forecastVolum\": ((first['forecastVolum']*0.5+second['forecastVolum']*0.5)).round().astype(int)\n",
    "})\n",
    "submission['forecastVolum'] = submission['forecastVolum'].apply(lambda x: 0 if x < 0 else x)#<0的结果变为0\n",
    "submission.to_csv('../rst/624fusion.csv', index=False)\n",
    "# 0.624穿越"
   ]
  },
  {
   "cell_type": "code",
   "execution_count": 3,
   "metadata": {},
   "outputs": [],
   "source": [
    "# 与曲硕融合的0.624与自己的0.624融合后与0.54融合\n",
    "first=pd.read_csv('../rst/624fusion.csv')\n",
    "second=pd.read_csv('../rst/057_lqbz_quanguize.csv')\n",
    "submission = pd.DataFrame({\n",
    "    \"id\": second['id'], \n",
    "    \"forecastVolum\": ((first['forecastVolum']*0.9+second['forecastVolum']*0.1)).round().astype(int)\n",
    "})\n",
    "submission['forecastVolum'] = submission['forecastVolum'].apply(lambda x: 0 if x < 0 else x)#<0的结果变为0\n",
    "submission.to_csv('../rst/624fusion_54.csv', index=False)\n",
    "# 0.620"
   ]
  },
  {
   "cell_type": "code",
   "execution_count": 4,
   "metadata": {},
   "outputs": [],
   "source": [
    "# 与曲硕融合的0.624与自己的0.624融合后与0.54融合 再与石泓澔融合\n",
    "first=pd.read_csv('../rst/624fusion_54.csv')\n",
    "second=pd.read_csv('../rst/shh.csv')\n",
    "submission = pd.DataFrame({\n",
    "    \"id\": second['id'], \n",
    "    \"forecastVolum\": ((first['forecastVolum']*0.834+second['forecastVolum']*0.166)).round().astype(int)\n",
    "})\n",
    "submission['forecastVolum'] = submission['forecastVolum'].apply(lambda x: 0 if x < 0 else x)#<0的结果变为0\n",
    "submission.to_csv('../rst/624fusion_54_shh.csv', index=False)\n",
    "# 0.622"
   ]
  },
  {
   "cell_type": "code",
   "execution_count": 2,
   "metadata": {},
   "outputs": [],
   "source": [
    "# 全部用clip去掉abnormal\n",
    "first=pd.read_csv('../rst/057_baseline_allAbnormalClip.csv')\n",
    "second=pd.read_csv('../rst/057_shift5_4_3_05835_3bi7.csv')\n",
    "submission = pd.DataFrame({\n",
    "    \"id\": second['id'], \n",
    "    \"forecastVolum\": (first['ad_ry_mean']*0.7+first['md_ry_mean']*0.3).round().astype(int)\n",
    "})\n",
    "submission['forecastVolum'] = submission['forecastVolum'].apply(lambda x: 0 if x < 0 else x)#<0的结果变为0\n",
    "submission.to_csv('../rst/057_allAbnormalClip.csv', index=False)"
   ]
  },
  {
   "cell_type": "code",
   "execution_count": 4,
   "metadata": {},
   "outputs": [],
   "source": [
    "# 0.624+shh\n",
    "first=pd.read_csv('../rst/624fusion.csv')\n",
    "second=pd.read_csv('../rst/shh.csv')\n",
    "submission = pd.DataFrame({\n",
    "    \"id\": second['id'], \n",
    "    \"forecastVolum\": (first['forecastVolum']*0.714+second['forecastVolum']*0.286).round().astype(int)\n",
    "})\n",
    "submission['forecastVolum'] = submission['forecastVolum'].apply(lambda x: 0 if x < 0 else x)#<0的结果变为0\n",
    "submission.to_csv('../rst/__main__624_shh_7_3.csv', index=False)\n",
    "# 0.6247"
   ]
  },
  {
   "cell_type": "code",
   "execution_count": 3,
   "metadata": {},
   "outputs": [],
   "source": [
    "# 盗的与shh融合\n",
    "first=pd.read_csv('../rst/0603_stolen.csv')\n",
    "second=pd.read_csv('../rst/shh.csv')\n",
    "submission = pd.DataFrame({\n",
    "    \"id\": second['id'], \n",
    "    \"forecastVolum\": ((first['forecastVolum']*0.5+second['forecastVolum']*0.5)).round().astype(int)\n",
    "})\n",
    "submission['forecastVolum'] = submission['forecastVolum'].apply(lambda x: 0 if x < 0 else x)#<0的结果变为0\n",
    "submission.to_csv('../rst/xiao_0603_dao_shhfusion.csv', index=False)\n",
    "# 0.61686593000"
   ]
  },
  {
   "cell_type": "code",
   "execution_count": 5,
   "metadata": {},
   "outputs": [],
   "source": [
    "# 盗的与shh融合\n",
    "first=pd.read_csv('../rst/0603_stolen.csv')\n",
    "second=pd.read_csv('../rst/shh.csv')\n",
    "submission = pd.DataFrame({\n",
    "    \"id\": second['id'], \n",
    "    \"forecastVolum\": (np.sqrt(first['forecastVolum']*second['forecastVolum'])).round().astype(int)\n",
    "})\n",
    "submission['forecastVolum'] = submission['forecastVolum'].apply(lambda x: 0 if x < 0 else x)#<0的结果变为0\n",
    "submission.to_csv('../rst/xiao_0603_dao_shh_jihe_fusion.csv', index=False)\n",
    "# 0.61614144000 "
   ]
  },
  {
   "cell_type": "code",
   "execution_count": 4,
   "metadata": {},
   "outputs": [],
   "source": [
    "# 盗的与shh融合 与 原本和myx融合\n",
    "first=pd.read_csv('../rst/xiao_0603_dao_shhfusion.csv')\n",
    "second=pd.read_csv('../rst/0613_myx060_7_3.csv')\n",
    "submission = pd.DataFrame({\n",
    "    \"id\": second['id'], \n",
    "    \"forecastVolum\": ((first['forecastVolum']*0.412+second['forecastVolum']*0.588)).round().astype(int)\n",
    "})\n",
    "submission['forecastVolum'] = submission['forecastVolum'].apply(lambda x: 0 if x < 0 else x)#<0的结果变为0\n",
    "submission.to_csv('../rst/__main__myxWo_daoshh_fusion.csv', index=False)\n",
    "# 0.6276105"
   ]
  },
  {
   "cell_type": "code",
   "execution_count": 2,
   "metadata": {},
   "outputs": [],
   "source": [
    "# 盗的与shh融合 与 原本和myx融合 再与另外一个盗的0.60融合\n",
    "first=pd.read_csv('../rst/__main__myxWo_daoshh_fusion.csv')\n",
    "second=pd.read_csv('../rst/0603225_stolen2.csv')\n",
    "submission = pd.DataFrame({\n",
    "    \"id\": second['id'], \n",
    "    \"forecastVolum\": ((first['forecastVolum']*0.9+second['forecastVolum']*0.1)).round().astype(int)\n",
    "})\n",
    "submission['forecastVolum'] = submission['forecastVolum'].apply(lambda x: 0 if x < 0 else x)#<0的结果变为0\n",
    "submission.to_csv('../rst/__main__myxWo_daoshh_stl2_fusion.csv', index=False)\n",
    "# 0.6269747"
   ]
  },
  {
   "cell_type": "code",
   "execution_count": 3,
   "metadata": {},
   "outputs": [],
   "source": [
    "# ljy的与0.603另外一个盗的融合\n",
    "first=pd.read_csv('../rst/oursbaseline_lgb_0.6.csv')\n",
    "second=pd.read_csv('../rst/0603225_stolen2.csv')\n",
    "submission = pd.DataFrame({\n",
    "    \"id\": second['id'], \n",
    "    \"forecastVolum\": ((first['forecastVolum']*0.6+second['forecastVolum']*0.4)).round().astype(int)\n",
    "})\n",
    "submission['forecastVolum'] = submission['forecastVolum'].apply(lambda x: 0 if x < 0 else x)#<0的结果变为0\n",
    "submission.to_csv('../rst/0603_ljy_fusion.csv', index=False)\n",
    "# 0.618"
   ]
  },
  {
   "cell_type": "code",
   "execution_count": 4,
   "metadata": {},
   "outputs": [],
   "source": [
    "# 盗的与shh融合 与 原本和myx融合 再与 ljy的与0.603另外一个盗的融合\n",
    "first=pd.read_csv('../rst/__main__myxWo_daoshh_fusion.csv')\n",
    "second=pd.read_csv('../rst/0603_ljy_fusion.csv')\n",
    "submission = pd.DataFrame({\n",
    "    \"id\": second['id'], \n",
    "    \"forecastVolum\": ((first['forecastVolum']*0.788+second['forecastVolum']*0.212)).round().astype(int)\n",
    "})\n",
    "submission['forecastVolum'] = submission['forecastVolum'].apply(lambda x: 0 if x < 0 else x)#<0的结果变为0\n",
    "submission.to_csv('../rst/__main__myxWo_daoshh_daoljy_fusion.csv', index=False)\n",
    "# 0.62901449"
   ]
  },
  {
   "cell_type": "code",
   "execution_count": 2,
   "metadata": {},
   "outputs": [],
   "source": [
    "# 阿道刷刷0.57 shift4+yulao规则改进shift4+abnormal与0.53xgb结果的融合\n",
    "first=pd.read_csv('../rst/0603_qs_fusion.csv')\n",
    "second=pd.read_csv('../rst/myx_060.csv')\n",
    "submission = pd.DataFrame({\n",
    "    \"id\": second['id'], \n",
    "    \"forecastVolum\": ((first['forecastVolum']*0.65+second['forecastVolum']*0.35)).round().astype(int)\n",
    "})\n",
    "submission['forecastVolum'] = submission['forecastVolum'].apply(lambda x: 0 if x < 0 else x)#<0的结果变为0\n",
    "submission.to_csv('../rst/0613_myx060_65_35.csv', index=False)\n",
    "# 0.624？改了比例"
   ]
  },
  {
   "cell_type": "code",
   "execution_count": 3,
   "metadata": {},
   "outputs": [],
   "source": [
    "# (盗的与shh融合 与 原本和myx融合 再与 ljy的与0.603另外一个盗的融合)的0.62901449与给曲硕的0.624\n",
    "first=pd.read_csv('../rst/__main__myxWo_daoshh_daoljy_fusion.csv')\n",
    "second=pd.read_csv('../rst/0613_myx060_65_35.csv')\n",
    "submission = pd.DataFrame({\n",
    "    \"id\": second['id'], \n",
    "    \"forecastVolum\": ((first['forecastVolum']*0.71+second['forecastVolum']*0.29)).round().astype(int)\n",
    "})\n",
    "submission['forecastVolum'] = submission['forecastVolum'].apply(lambda x: 0 if x < 0 else x)#<0的结果变为0\n",
    "submission.to_csv('../rst/__main__0629_0624_refusion_7_3.csv', index=False)\n",
    "# 0.62901449？"
   ]
  },
  {
   "cell_type": "code",
   "execution_count": null,
   "metadata": {},
   "outputs": [],
   "source": []
  }
 ],
 "metadata": {
  "kernelspec": {
   "display_name": "Python 3",
   "language": "python",
   "name": "python3"
  },
  "language_info": {
   "codemirror_mode": {
    "name": "ipython",
    "version": 3
   },
   "file_extension": ".py",
   "mimetype": "text/x-python",
   "name": "python",
   "nbconvert_exporter": "python",
   "pygments_lexer": "ipython3",
   "version": "3.7.4"
  }
 },
 "nbformat": 4,
 "nbformat_minor": 2
}
