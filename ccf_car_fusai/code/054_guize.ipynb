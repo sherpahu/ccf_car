{
 "cells": [
  {
   "cell_type": "code",
   "execution_count": 2,
   "metadata": {},
   "outputs": [],
   "source": [
    "import pandas as pd\n",
    "train = pd.read_csv('../ccf_car/train_sales_data.csv')\n",
    "test = pd.read_csv('../ccf_car/evaluation_public.csv')\n",
    "train16 = train[train['regYear'] == 2016][['adcode', 'model', 'regMonth', 'salesVolume']]\n",
    "train17 = train[train['regYear'] == 2017][['adcode', 'model', 'regMonth', 'salesVolume']]\n",
    "df16 = train16.groupby(['adcode', \"model\"], as_index=False)['salesVolume'].agg({\"16mean\": 'mean'}) # 按省份和车型统计均值\n",
    "df17 = train17.groupby(['adcode', \"model\"], as_index=False)['salesVolume'].agg({\"17mean\": 'mean'}) # 按省份和车型统计均值\n",
    "df = pd.merge(df17, df16, on=['adcode', 'model'], how='inner')\n",
    "df['factor'] = df['17mean'] / df['16mean'] # 17年均值除以16年均值得到趋势因子\n",
    "# 取出16年12月，17年1,2,3,4,5月，共6个月\n",
    "df = pd.merge(df, train16[train16['regMonth'] == 12][['adcode', 'model', 'salesVolume']], on=['adcode', 'model'], how='left').rename(columns={'salesVolume': 0})\n",
    "for m in range(1, 6):\n",
    " df = pd.merge(df, train17[train17['regMonth'] == m][['adcode', 'model', 'salesVolume']], on=['adcode', 'model'], how='left').rename(columns={'salesVolume': m})\n",
    "result_df = pd.DataFrame()\n",
    "temp_df = df[['adcode', 'model']].copy()\n",
    "for m in range(1, 5):\n",
    " # 预测为上一年的上一个月，同一个月，下一个月的加权,再乘以趋势因子\n",
    " temp_df['forecastVolum'] = (df[m - 1].values * 0.25 + df[m].values * 0.5 + df[m + 1].values * 0.25) * df['factor']\n",
    " temp_df['regMonth'] = m\n",
    " result_df = result_df.append(temp_df, ignore_index=True, sort=False)\n",
    "test = pd.merge(test[['id', 'adcode', 'model', 'regMonth']], result_df, how='left', on=['adcode', 'model', 'regMonth'])\n",
    "test.loc[test['forecastVolum'] < 0, ['forecastVolum']] = 0\n",
    "test[['id', 'forecastVolum']].round(0).astype(int).to_csv('../rst/054_baseline.csv', encoding='utf8', index=False)"
   ]
  },
  {
   "cell_type": "code",
   "execution_count": null,
   "metadata": {},
   "outputs": [],
   "source": []
  }
 ],
 "metadata": {
  "kernelspec": {
   "display_name": "Python 3",
   "language": "python",
   "name": "python3"
  },
  "language_info": {
   "codemirror_mode": {
    "name": "ipython",
    "version": 3
   },
   "file_extension": ".py",
   "mimetype": "text/x-python",
   "name": "python",
   "nbconvert_exporter": "python",
   "pygments_lexer": "ipython3",
   "version": "3.7.0"
  }
 },
 "nbformat": 4,
 "nbformat_minor": 2
}
