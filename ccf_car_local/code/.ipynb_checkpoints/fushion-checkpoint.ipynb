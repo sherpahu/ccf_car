{
 "cells": [
  {
   "cell_type": "code",
   "execution_count": 1,
   "metadata": {},
   "outputs": [],
   "source": [
    "import pandas as pd\n",
    "import numpy as np"
   ]
  },
  {
   "cell_type": "code",
   "execution_count": 3,
   "metadata": {},
   "outputs": [],
   "source": [
    "# yulao0.51 and my best result fushion\n",
    "yulao=pd.read_csv('../rst/yulao_rst_051.csv')\n",
    "mine=pd.read_csv('../rst/stacking_lgb_0_46And0_49_rst_0.507.csv')\n",
    "submission = pd.DataFrame({\n",
    "    \"id\": mine['id'], \n",
    "    \"forecastVolum\": (yulao['forecastVolum']*0.6+mine['forecastVolum']*0.4).round().astype(int)\n",
    "})\n",
    "submission['forecastVolum'] = submission['forecastVolum'].apply(lambda x: 0 if x < 0 else x)#<0的结果变为0\n",
    "submission.to_csv('../rst/myBestAndYulao051_4bi6.csv', index=False)\n",
    "# 0.54457211"
   ]
  },
  {
   "cell_type": "code",
   "execution_count": 5,
   "metadata": {},
   "outputs": [],
   "source": [
    "# yulao0.51 and my best result fushion\n",
    "yulao=pd.read_csv('../rst/yulao_rst_051.csv')\n",
    "mine=pd.read_csv('../rst/stacking_lgb_0_46And0_49_rst_0.507.csv')\n",
    "submission = pd.DataFrame({\n",
    "    \"id\": mine['id'], \n",
    "    \"forecastVolum\": (yulao['forecastVolum']*0.7+mine['forecastVolum']*0.3).round().astype(int)\n",
    "})\n",
    "submission['forecastVolum'] = submission['forecastVolum'].apply(lambda x: 0 if x < 0 else x)#<0的结果变为0\n",
    "submission.to_csv('../rst/myBestAndYulao051_3bi7.csv', index=False)\n",
    "# 0.54135162000"
   ]
  },
  {
   "cell_type": "code",
   "execution_count": 5,
   "metadata": {},
   "outputs": [],
   "source": [
    "# yulao0.51 and my best result fushion\n",
    "yulao=pd.read_csv('../rst/yulao_rst_051.csv')\n",
    "mine=pd.read_csv('../rst/stacking_lgb_0_46And0_49_rst_0.507.csv')\n",
    "submission = pd.DataFrame({\n",
    "    \"id\": mine['id'], \n",
    "    \"forecastVolum\": (yulao['forecastVolum']*0.4+mine['forecastVolum']*0.6).round().astype(int)\n",
    "})\n",
    "submission['forecastVolum'] = submission['forecastVolum'].apply(lambda x: 0 if x < 0 else x)#<0的结果变为0\n",
    "submission.to_csv('../rst/myBestAndYulao051_6bi4.csv', index=False)\n",
    "# 0.54135162000"
   ]
  },
  {
   "cell_type": "code",
   "execution_count": 3,
   "metadata": {},
   "outputs": [],
   "source": [
    "# 0.54457211 and rolling、holiday、fix_NaN\n",
    "first=pd.read_csv('../rst/myBestAndYulao051_4bi6.csv')\n",
    "second=pd.read_csv('../rst/stacking_lgb_0_46And0_49_rst_0.507.csv')\n",
    "submission = pd.DataFrame({\n",
    "    \"id\": second['id'], \n",
    "    \"forecastVolum\": ((first['forecastVolum']*0.7+second['forecastVolum']*0.3)*0.95).round().astype(int)\n",
    "})\n",
    "submission['forecastVolum'] = submission['forecastVolum'].apply(lambda x: 0 if x < 0 else x)#<0的结果变为0\n",
    "submission.to_csv('../rst/054_rolling_holiday_fixNaN.csv', index=False)\n",
    "# 0.55198598"
   ]
  },
  {
   "cell_type": "code",
   "execution_count": 4,
   "metadata": {},
   "outputs": [],
   "source": [
    "# 0.54457211 and rolling、holiday、fix_NaN\n",
    "first=pd.read_csv('../rst/myBestAndYulao051_4bi6.csv')\n",
    "second=pd.read_csv('../rst/rst_fixNaN_rolling_holiday.csv')\n",
    "submission = pd.DataFrame({\n",
    "    \"id\": second['id'], \n",
    "    \"forecastVolum\": ((first['forecastVolum']*0.8+second['forecastVolum']*0.2)*0.95).round().astype(int)\n",
    "})\n",
    "submission['forecastVolum'] = submission['forecastVolum'].apply(lambda x: 0 if x < 0 else x)#<0的结果变为0\n",
    "submission.to_csv('../rst/rst_fushion_best_rolling.csv', index=False)\n",
    "# 0.55198598"
   ]
  },
  {
   "cell_type": "code",
   "execution_count": null,
   "metadata": {},
   "outputs": [],
   "source": []
  }
 ],
 "metadata": {
  "kernelspec": {
   "display_name": "Python 3",
   "language": "python",
   "name": "python3"
  },
  "language_info": {
   "codemirror_mode": {
    "name": "ipython",
    "version": 3
   },
   "file_extension": ".py",
   "mimetype": "text/x-python",
   "name": "python",
   "nbconvert_exporter": "python",
   "pygments_lexer": "ipython3",
   "version": "3.7.3"
  }
 },
 "nbformat": 4,
 "nbformat_minor": 2
}
