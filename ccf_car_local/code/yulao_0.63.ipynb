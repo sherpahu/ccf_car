{
 "cells": [
  {
   "cell_type": "markdown",
   "metadata": {},
   "source": [
    "# 模块导入"
   ]
  },
  {
   "cell_type": "code",
   "execution_count": 22,
   "metadata": {},
   "outputs": [],
   "source": [
    "import sys\n",
    "import numpy as np\n",
    "import pandas as pd\n",
    "import os \n",
    "import gc\n",
    "from tqdm import tqdm_notebook as tqdm\n",
    "from sklearn.model_selection import StratifiedKFold, KFold\n",
    "from sklearn.metrics import f1_score, roc_auc_score\n",
    "from sklearn.metrics import mean_squared_error as mse\n",
    "from sklearn.preprocessing import LabelEncoder\n",
    "import datetime\n",
    "import time\n",
    "import lightgbm as lgb\n",
    "import xgboost as xgb\n",
    "import warnings\n",
    "import matplotlib.pyplot as plt\n",
    "from mlxtend.regressor import StackingRegressor\n",
    "warnings.simplefilter(action='ignore', category=FutureWarning)\n",
    "warnings.filterwarnings('ignore')"
   ]
  },
  {
   "cell_type": "markdown",
   "metadata": {},
   "source": [
    "# 数据处理"
   ]
  },
  {
   "cell_type": "code",
   "execution_count": 2,
   "metadata": {},
   "outputs": [],
   "source": [
    "path  = '../ccf_car/'\n",
    "train_sales  = pd.read_csv(path+'train_sales_data.csv')\n",
    "train_search = pd.read_csv(path+'train_search_data.csv')\n",
    "train_user   = pd.read_csv(path+'train_user_reply_data.csv')\n",
    "evaluation_public = pd.read_csv(path+'evaluation_public.csv')\n",
    "submit_example    = pd.read_csv(path+'submit_example.csv')\n",
    "data = pd.concat([train_sales, evaluation_public], ignore_index=True)\n",
    "data = data.merge(train_search, 'left', on=['province', 'adcode', 'model', 'regYear', 'regMonth'])\n",
    "data = data.merge(train_user, 'left', on=['model', 'regYear', 'regMonth'])\n",
    "data['label'] = data['salesVolume']\n",
    "data['id'] = data['id'].fillna(0).astype(int)\n",
    "data['bodyType'] = data['model'].map(train_sales.drop_duplicates('model').set_index('model')['bodyType'])\n",
    "#LabelEncoder\n",
    "for i in ['bodyType', 'model']:\n",
    "    data[i] = data[i].map(dict(zip(data[i].unique(), range(data[i].nunique()))))\n",
    "data['mt'] = (data['regYear'] - 2016) * 12 + data['regMonth']"
   ]
  },
  {
   "cell_type": "markdown",
   "metadata": {},
   "source": [
    "# 提取特征"
   ]
  },
  {
   "cell_type": "code",
   "execution_count": 3,
   "metadata": {},
   "outputs": [],
   "source": [
    "unstack_data = {}\n",
    "def getHistoryIncrease(dataset, stat_feat, step=1, wind=1, col='label'):\n",
    "    \"\"\"\n",
    "    计算历史涨幅\n",
    "    :param: step:月份跨度\n",
    "    :param: wind:计算涨幅的月份区间\n",
    "    :param: col:计算涨幅的目标列\n",
    "    例：step=1,wind=2,计算当月 前第1月 较 前第3月 的涨幅）\n",
    "    \"\"\"\n",
    "    if col not in unstack_data.keys():\n",
    "        res = []\n",
    "        bar = tqdm(dataset['province'].unique(), desc='history increase')\n",
    "        for i in bar:\n",
    "            for j in dataset['model'].unique():\n",
    "                msk = (dataset['province']==i) & (dataset['model']==j)\n",
    "                df = dataset[msk].copy().reset_index(drop=True)\n",
    "                df = df[['mt',col]].set_index('mt').T\n",
    "                df['province'] = i\n",
    "                df['model'] = j\n",
    "                res.append(df)\n",
    "        res = pd.concat(res).reset_index(drop=True)\n",
    "        unstack_data[col] = res.copy()\n",
    "            \n",
    "    res = unstack_data[col].copy()\n",
    "    res_ = res.copy()\n",
    "    for i in range(step+wind+1,29):\n",
    "        res_[i] = (res[i-step] - res[i-(step+wind)]) / res[i-(step+wind)]\n",
    "    for i in range(1,step+wind+1):\n",
    "        res_[i]=np.NaN\n",
    "    res = res_.set_index(['province','model']).stack().reset_index()\n",
    "    res.rename(columns={0:'{}_last{}_{}_increase'.format(col,step,wind)},inplace=True)\n",
    "    stat_feat.append('{}_last{}_{}_increase'.format(col,step,wind))\n",
    "    dataset = pd.merge(dataset, res, on=['province','model','mt'], how='left')\n",
    "\n",
    "    return dataset,stat_feat"
   ]
  },
  {
   "cell_type": "code",
   "execution_count": 17,
   "metadata": {},
   "outputs": [],
   "source": [
    "def cal_windows_fea(df:pd.DataFrame, cal_col:str, stat_dim:list, data_type:str) -> pd.DataFrame:\n",
    "    \"\"\"\n",
    "    计算滑窗特征\n",
    "    \"\"\"\n",
    "    train_sales_data = get_data(df, data_type)\n",
    "\n",
    "    name_prefix = \"_\".join(stat_dim) + \"_%s\"%cal_col\n",
    "\n",
    "    # 滑窗特征\n",
    "    ## 均值\n",
    "    feature_data = train_sales_data.groupby(stat_dim)[cal_col].apply(lambda x: x.sum()).groupby(stat_dim[:-1]).rolling(3).mean()\n",
    "\n",
    "    feature_data = feature_data.dropna().unstack(level=-1)\n",
    "\n",
    "    if len(stat_dim) == 3:\n",
    "        feature_data.index = feature_data.index.droplevel(0)\n",
    "        feature_data.index = feature_data.index.droplevel(0)\n",
    "    elif len(stat_dim) == 2:\n",
    "        feature_data.index = feature_data.index.droplevel(0)\n",
    "\n",
    "\n",
    "    feature_data.reset_index(inplace=True)\n",
    "    feature_data = feature_data.rename(columns={k:\"%s_rolling_mean_%d\"%(name_prefix, k) for k in range(13)})\n",
    "\n",
    "    ## std\n",
    "    tmp_df = train_sales_data.groupby(stat_dim)[cal_col].apply(lambda x: x.sum()).groupby(stat_dim[:-1]).rolling(3).std()\n",
    "\n",
    "    tmp_df = tmp_df.dropna().unstack(level=-1)\n",
    "\n",
    "    if len(stat_dim) == 3:\n",
    "        tmp_df.index = tmp_df.index.droplevel(0)\n",
    "        tmp_df.index = tmp_df.index.droplevel(0)\n",
    "    elif len(stat_dim) == 2:\n",
    "        tmp_df.index = tmp_df.index.droplevel(0)\n",
    "\n",
    "\n",
    "    tmp_df.reset_index(inplace=True)\n",
    "    tmp_df = tmp_df.rename(columns={k:\"%s_rolling_std_%d\"%(name_prefix, k) for k in range(13)})\n",
    "\n",
    "    feature_data = pd.merge(feature_data, tmp_df, on=stat_dim[:-1], how=\"left\")\n",
    "\n",
    "    ## sum\n",
    "    tmp_df = train_sales_data.groupby(stat_dim)[cal_col].apply(lambda x: x.sum()).groupby(stat_dim[:-1]).rolling(3).sum()\n",
    "\n",
    "    tmp_df = tmp_df.dropna().unstack(level=-1)\n",
    "\n",
    "    if len(stat_dim) == 3:\n",
    "        tmp_df.index = tmp_df.index.droplevel(0)\n",
    "        tmp_df.index = tmp_df.index.droplevel(0)\n",
    "    elif len(stat_dim) == 2:\n",
    "        tmp_df.index = tmp_df.index.droplevel(0)\n",
    "\n",
    "    tmp_df.reset_index(inplace=True)\n",
    "    tmp_df = tmp_df.rename(columns={k:\"%s_rolling_sum_%d\"%(name_prefix, k) for k in range(13)})\n",
    "\n",
    "    feature_data = pd.merge(feature_data, tmp_df, on=stat_dim[:-1], how=\"left\")\n",
    "    return feature_data"
   ]
  },
  {
   "cell_type": "code",
   "execution_count": 11,
   "metadata": {},
   "outputs": [],
   "source": [
    "def get_stat_feature(df_,month):   \n",
    "    df = df_.copy()\n",
    "    stat_feat = []\n",
    "    df['model_adcode'] = df['adcode'] + df['model']\n",
    "    df['model_adcode_mt'] = df['model_adcode'] * 100 + df['mt']\n",
    "    for col in tqdm(['label','popularity']):\n",
    "        # shift\n",
    "        for i in [1,2,3,4,5,6,7,8,9,10,11,12]:\n",
    "            stat_feat.append('shift_model_adcode_mt_{}_{}'.format(col,i))\n",
    "            df['model_adcode_mt_{}_{}'.format(col,i)] = df['model_adcode_mt'] + i\n",
    "            df_last = df[~df[col].isnull()].set_index('model_adcode_mt_{}_{}'.format(col,i))\n",
    "            df['shift_model_adcode_mt_{}_{}'.format(col,i)] = df['model_adcode_mt'].map(df_last[col])    \n",
    "    day_map = {1:31,2:28,3:31,4:30,5:31,6:30,7:31,8:31,9:30,10:31,11:30,12:31}\n",
    "    df['dayCount']=df['regMonth'].map(day_map)\n",
    "    df.loc[(df.regMonth==2)&(df.regYear==2016),'dayCount']=29\n",
    "    stat_feat.append('dayCount')\n",
    "    df['salesVolume']/=df['dayCount']\n",
    "    df['popularity']/=df['dayCount']\n",
    "    # day_map = {1:-1,2:0,3:1,4:2,5:3,6:4,7:5,8:6,9:-5,10:-4,11:-3,12:-2}\n",
    "    # day_map = {1:-1,2:0,3:1,4:2,5:100,6:100,7:100,8:100,9:100,10:100,11:100,12:-2}\n",
    "    # df['spring']=df['regMonth'].map(day_map)\n",
    "    unstack_data = {}\n",
    "    base_step = month-1 if month-1>0 else 1\n",
    "    df,stat_feat = getHistoryIncrease(df,stat_feat, step=base_step)\n",
    "    df,stat_feat = getHistoryIncrease(df,stat_feat, step=base_step+1)\n",
    "    df,stat_feat = getHistoryIncrease(df,stat_feat, step=base_step+2)\n",
    "    df,stat_feat = getHistoryIncrease(df,stat_feat, step=base_step, wind=2)\n",
    "    df,stat_feat = getHistoryIncrease(df,stat_feat, step=base_step+1, wind=2)\n",
    "    df,stat_feat = getHistoryIncrease(df,stat_feat, step=base_step+2, wind=2)\n",
    "    df,stat_feat = getHistoryIncrease(df,stat_feat, step=base_step, wind=12)\n",
    "    \n",
    "    df,stat_feat = getHistoryIncrease(df,stat_feat, step=month, col='popularity')\n",
    "    df,stat_feat = getHistoryIncrease(df,stat_feat, step=month+1, col='popularity')\n",
    "    df,stat_feat = getHistoryIncrease(df,stat_feat, step=month+2, col='popularity')\n",
    "    df,stat_feat = getHistoryIncrease(df,stat_feat, step=month, wind=2, col='popularity')\n",
    "    df,stat_feat = getHistoryIncrease(df,stat_feat, step=month+1, wind=2, col='popularity')\n",
    "    df,stat_feat = getHistoryIncrease(df,stat_feat, step=month+2, wind=2, col='popularity')\n",
    "    \n",
    "    df['salesVolume']*=df['dayCount']\n",
    "    df['popularity']*=df['dayCount']\n",
    "    \n",
    "    return df,stat_feat"
   ]
  },
  {
   "cell_type": "markdown",
   "metadata": {},
   "source": [
    "# 评价指标"
   ]
  },
  {
   "cell_type": "code",
   "execution_count": 12,
   "metadata": {},
   "outputs": [],
   "source": [
    "def score(data, pred='pred_label', label='label', group='model'):\n",
    "    data['pred_label'] = data['pred_label'].apply(lambda x: 0 if x < 0 else x).round().astype(int)\n",
    "    data_agg = data.groupby('model').agg({\n",
    "        pred:  list,\n",
    "        label: [list, 'mean']\n",
    "    }).reset_index()\n",
    "    data_agg.columns = ['_'.join(col).strip() for col in data_agg.columns]\n",
    "    nrmse_score = []\n",
    "    for raw in data_agg[['{0}_list'.format(pred), '{0}_list'.format(label), '{0}_mean'.format(label)]].values:\n",
    "        nrmse_score.append(\n",
    "            mse(raw[0], raw[1]) ** 0.5 / raw[2]\n",
    "        )\n",
    "    print(1 - np.mean(nrmse_score))\n",
    "    return 1 - np.mean(nrmse_score)\t"
   ]
  },
  {
   "cell_type": "markdown",
   "metadata": {},
   "source": [
    "# 模型选择"
   ]
  },
  {
   "cell_type": "code",
   "execution_count": 13,
   "metadata": {},
   "outputs": [],
   "source": [
    "def get_model_type(train_x,train_y,valid_x,valid_y,m_type='lgb'):   \n",
    "    if m_type == 'lgb':\n",
    "        model = lgb.LGBMRegressor(\n",
    "                                num_leaves=2**5-1, reg_alpha=0.25, reg_lambda=0.25, objective='mse',\n",
    "                                max_depth=-1, learning_rate=0.05, min_child_samples=5, random_state=2019,\n",
    "                                n_estimators=2000, subsample=0.9, colsample_bytree=0.7,\n",
    "                                )\n",
    "        model.fit(train_x, train_y, \n",
    "              eval_set=[(train_x, train_y),(valid_x, valid_y)], \n",
    "              categorical_feature=cate_feat, \n",
    "              early_stopping_rounds=100, verbose=100)      \n",
    "    elif m_type == 'xgb':\n",
    "        model = xgb.XGBRegressor(\n",
    "                                max_depth=5 , learning_rate=0.05, n_estimators=2000, \n",
    "                                objective='reg:gamma', tree_method = 'hist',subsample=0.9, \n",
    "                                colsample_bytree=0.7, min_child_samples=5,eval_metric = 'rmse' \n",
    "                                )\n",
    "        model.fit(train_x, train_y, \n",
    "              eval_set=[(train_x, train_y),(valid_x, valid_y)], \n",
    "              early_stopping_rounds=100, verbose=100)   \n",
    "    return model"
   ]
  },
  {
   "cell_type": "markdown",
   "metadata": {},
   "source": [
    "# 模型训练"
   ]
  },
  {
   "cell_type": "code",
   "execution_count": 14,
   "metadata": {},
   "outputs": [],
   "source": [
    "def get_train_model(df_, m, m_type='lgb'):\n",
    "    df = df_.copy()\n",
    "    if m_type == 'lgb':\n",
    "        for i in cate_feat:\n",
    "            df[i] = df[i].astype('category')\n",
    "    elif m_type == 'xgb':\n",
    "        lbl = LabelEncoder()  \n",
    "        for i in tqdm(cate_feat):\n",
    "            df[i] = lbl.fit_transform(df[i].astype(str))\n",
    "    # 数据集划分\n",
    "    st = 13\n",
    "    all_idx   = (df['mt'].between(st , m-1))\n",
    "    train_idx = (df['mt'].between(st , m-5))\n",
    "    valid_idx = (df['mt'].between(m-4, m-4))\n",
    "    test_idx  = (df['mt'].between(m  , m  ))\n",
    "    print('all_idx  :',st ,m-1)\n",
    "    print('train_idx:',st ,m-5)\n",
    "    print('valid_idx:',m-4,m-4)\n",
    "    print('test_idx :',m  ,m  )  \n",
    "    # 最终确认\n",
    "    train_x = df[train_idx][features]\n",
    "    train_y = df[train_idx]['label']\n",
    "    valid_x = df[valid_idx][features]\n",
    "    valid_y = df[valid_idx]['label']   \n",
    "    # get model\n",
    "    model = get_model_type(train_x,train_y,valid_x,valid_y,m_type)  \n",
    "    # offline\n",
    "    df['pred_label'] = model.predict(df[features])\n",
    "    best_score = score(df[valid_idx]) \n",
    "    # online\n",
    "    if m_type == 'lgb':\n",
    "        model.n_estimators = model.best_iteration_ + 100\n",
    "        model.fit(df[all_idx][features], df[all_idx]['label'], categorical_feature=cate_feat)\n",
    "    elif m_type == 'xgb':\n",
    "        model.n_estimators = model.best_iteration + 100\n",
    "        model.fit(df[all_idx][features], df[all_idx]['label'])\n",
    "    df['forecastVolum'] = model.predict(df[features]) \n",
    "    print('valid mean:',df[valid_idx]['pred_label'].mean())\n",
    "    print('true  mean:',df[valid_idx]['label'].mean())\n",
    "    print('test  mean:',df[test_idx]['forecastVolum'].mean())\n",
    "    # 阶段结果\n",
    "    sub = df[test_idx][['id']]\n",
    "    sub['forecastVolum'] = df[test_idx]['forecastVolum'].apply(lambda x: 0 if x < 0 else x).round().astype(int)  \n",
    "    return model,sub,df[valid_idx]['pred_label']"
   ]
  },
  {
   "cell_type": "markdown",
   "metadata": {},
   "source": [
    "# 逐步预测"
   ]
  },
  {
   "cell_type": "code",
   "execution_count": 26,
   "metadata": {
    "scrolled": false
   },
   "outputs": [
    {
     "data": {
      "application/vnd.jupyter.widget-view+json": {
       "model_id": "8ce16fe59ff84231a66db60a74f6b672",
       "version_major": 2,
       "version_minor": 0
      },
      "text/plain": [
       "HBox(children=(IntProgress(value=0, max=2), HTML(value='')))"
      ]
     },
     "metadata": {},
     "output_type": "display_data"
    },
    {
     "name": "stdout",
     "output_type": "stream",
     "text": [
      "\n",
      "43 43\n"
     ]
    },
    {
     "data": {
      "application/vnd.jupyter.widget-view+json": {
       "model_id": "af54410874eb4ca39746afebf253979e",
       "version_major": 2,
       "version_minor": 0
      },
      "text/plain": [
       "HBox(children=(IntProgress(value=0, max=4), HTML(value='')))"
      ]
     },
     "metadata": {},
     "output_type": "display_data"
    },
    {
     "name": "stdout",
     "output_type": "stream",
     "text": [
      "\n",
      "all_idx  : 13 24\n",
      "train_idx: 13 20\n",
      "valid_idx: 21 21\n",
      "test_idx : 25 25\n",
      "[0]\tvalidation_0-rmse:841.375\tvalidation_1-rmse:1046.8\n",
      "Multiple eval metrics have been passed: 'validation_1-rmse' will be used for early stopping.\n",
      "\n",
      "Will train until validation_1-rmse hasn't improved in 100 rounds.\n",
      "[100]\tvalidation_0-rmse:800.241\tvalidation_1-rmse:1004.61\n",
      "[200]\tvalidation_0-rmse:251.943\tvalidation_1-rmse:361.342\n",
      "[300]\tvalidation_0-rmse:118.957\tvalidation_1-rmse:208.219\n",
      "[400]\tvalidation_0-rmse:104.794\tvalidation_1-rmse:197.68\n",
      "[500]\tvalidation_0-rmse:94.619\tvalidation_1-rmse:194.414\n",
      "[600]\tvalidation_0-rmse:87.2869\tvalidation_1-rmse:193.74\n",
      "[700]\tvalidation_0-rmse:80.4067\tvalidation_1-rmse:191.649\n",
      "[800]\tvalidation_0-rmse:74.1717\tvalidation_1-rmse:190.212\n",
      "[900]\tvalidation_0-rmse:69.349\tvalidation_1-rmse:191.133\n",
      "Stopping. Best iteration:\n",
      "[838]\tvalidation_0-rmse:72.4253\tvalidation_1-rmse:189.641\n",
      "\n",
      "0.777283776562614\n",
      "valid mean: 614.6515502929688\n",
      "true  mean: 649.3121212121212\n",
      "test  mean: 612.8656005859375\n"
     ]
    },
    {
     "data": {
      "application/vnd.jupyter.widget-view+json": {
       "model_id": "c8698a592d0944f0b7ccf87257893c76",
       "version_major": 2,
       "version_minor": 0
      },
      "text/plain": [
       "HBox(children=(IntProgress(value=0, max=2), HTML(value='')))"
      ]
     },
     "metadata": {},
     "output_type": "display_data"
    },
    {
     "name": "stdout",
     "output_type": "stream",
     "text": [
      "\n",
      "43 43\n",
      "all_idx  : 13 24\n",
      "train_idx: 13 20\n",
      "valid_idx: 21 21\n",
      "test_idx : 25 25\n",
      "Training until validation scores don't improve for 100 rounds.\n",
      "[100]\ttraining's l2: 7574.8\tvalid_1's l2: 35121.1\n",
      "[200]\ttraining's l2: 3928.48\tvalid_1's l2: 33248.5\n",
      "[300]\ttraining's l2: 2593.56\tvalid_1's l2: 32944.3\n",
      "[400]\ttraining's l2: 1740.25\tvalid_1's l2: 32789.1\n",
      "[500]\ttraining's l2: 1281.13\tvalid_1's l2: 32642.8\n",
      "[600]\ttraining's l2: 974.068\tvalid_1's l2: 32540.9\n",
      "[700]\ttraining's l2: 767.321\tvalid_1's l2: 32528.2\n",
      "[800]\ttraining's l2: 617.885\tvalid_1's l2: 32533.8\n",
      "Early stopping, best iteration is:\n",
      "[721]\ttraining's l2: 732.662\tvalid_1's l2: 32501.4\n",
      "0.7621523593987417\n",
      "valid mean: 602.8650620742856\n",
      "true  mean: 649.3121212121212\n",
      "test  mean: 568.0401825059618\n"
     ]
    },
    {
     "data": {
      "application/vnd.jupyter.widget-view+json": {
       "model_id": "503ead0d2737475fa3793a46bdec1373",
       "version_major": 2,
       "version_minor": 0
      },
      "text/plain": [
       "HBox(children=(IntProgress(value=0, max=2), HTML(value='')))"
      ]
     },
     "metadata": {},
     "output_type": "display_data"
    },
    {
     "name": "stdout",
     "output_type": "stream",
     "text": [
      "\n",
      "43 43\n"
     ]
    },
    {
     "data": {
      "application/vnd.jupyter.widget-view+json": {
       "model_id": "62c9cfa17619426996482dd5a72e51f7",
       "version_major": 2,
       "version_minor": 0
      },
      "text/plain": [
       "HBox(children=(IntProgress(value=0, max=4), HTML(value='')))"
      ]
     },
     "metadata": {},
     "output_type": "display_data"
    },
    {
     "name": "stdout",
     "output_type": "stream",
     "text": [
      "\n",
      "all_idx  : 13 25\n",
      "train_idx: 13 21\n",
      "valid_idx: 22 22\n",
      "test_idx : 26 26\n",
      "[0]\tvalidation_0-rmse:866.608\tvalidation_1-rmse:1007.37\n",
      "Multiple eval metrics have been passed: 'validation_1-rmse' will be used for early stopping.\n",
      "\n",
      "Will train until validation_1-rmse hasn't improved in 100 rounds.\n",
      "[100]\tvalidation_0-rmse:825.41\tvalidation_1-rmse:965.908\n",
      "[200]\tvalidation_0-rmse:261.235\tvalidation_1-rmse:360.28\n",
      "[300]\tvalidation_0-rmse:122.565\tvalidation_1-rmse:227.153\n",
      "[400]\tvalidation_0-rmse:108.335\tvalidation_1-rmse:222.943\n",
      "[500]\tvalidation_0-rmse:97.8213\tvalidation_1-rmse:221.588\n",
      "[600]\tvalidation_0-rmse:90.5369\tvalidation_1-rmse:220.587\n",
      "Stopping. Best iteration:\n",
      "[586]\tvalidation_0-rmse:91.4407\tvalidation_1-rmse:220.113\n",
      "\n",
      "0.7124610756349663\n",
      "valid mean: 550.1776733398438\n",
      "true  mean: 616.5537878787878\n",
      "test  mean: 297.9572448730469\n"
     ]
    },
    {
     "data": {
      "application/vnd.jupyter.widget-view+json": {
       "model_id": "787fae39763a481f9716645020c31d12",
       "version_major": 2,
       "version_minor": 0
      },
      "text/plain": [
       "HBox(children=(IntProgress(value=0, max=2), HTML(value='')))"
      ]
     },
     "metadata": {},
     "output_type": "display_data"
    },
    {
     "name": "stdout",
     "output_type": "stream",
     "text": [
      "\n",
      "43 43\n",
      "all_idx  : 13 25\n",
      "train_idx: 13 21\n",
      "valid_idx: 22 22\n",
      "test_idx : 26 26\n",
      "Training until validation scores don't improve for 100 rounds.\n",
      "[100]\ttraining's l2: 8054.06\tvalid_1's l2: 40205.4\n",
      "[200]\ttraining's l2: 4375.87\tvalid_1's l2: 40368.4\n",
      "Early stopping, best iteration is:\n",
      "[112]\ttraining's l2: 7217.75\tvalid_1's l2: 40083.9\n",
      "0.7407368625562902\n",
      "valid mean: 628.0485155718363\n",
      "true  mean: 616.5537878787878\n",
      "test  mean: 326.2493005044287\n"
     ]
    },
    {
     "data": {
      "application/vnd.jupyter.widget-view+json": {
       "model_id": "2e68b0e377a04525acd51f23b48d934b",
       "version_major": 2,
       "version_minor": 0
      },
      "text/plain": [
       "HBox(children=(IntProgress(value=0, max=2), HTML(value='')))"
      ]
     },
     "metadata": {},
     "output_type": "display_data"
    },
    {
     "name": "stdout",
     "output_type": "stream",
     "text": [
      "\n",
      "43 43\n"
     ]
    },
    {
     "data": {
      "application/vnd.jupyter.widget-view+json": {
       "model_id": "17bb1196043a45a1ae726f99f0c138f7",
       "version_major": 2,
       "version_minor": 0
      },
      "text/plain": [
       "HBox(children=(IntProgress(value=0, max=4), HTML(value='')))"
      ]
     },
     "metadata": {},
     "output_type": "display_data"
    },
    {
     "name": "stdout",
     "output_type": "stream",
     "text": [
      "\n",
      "all_idx  : 13 26\n",
      "train_idx: 13 22\n",
      "valid_idx: 23 23\n",
      "test_idx : 27 27\n",
      "[0]\tvalidation_0-rmse:881.696\tvalidation_1-rmse:1071.89\n",
      "Multiple eval metrics have been passed: 'validation_1-rmse' will be used for early stopping.\n",
      "\n",
      "Will train until validation_1-rmse hasn't improved in 100 rounds.\n",
      "[100]\tvalidation_0-rmse:840.497\tvalidation_1-rmse:1028.98\n",
      "[200]\tvalidation_0-rmse:268.642\tvalidation_1-rmse:360.413\n",
      "[300]\tvalidation_0-rmse:130.319\tvalidation_1-rmse:205.299\n",
      "[400]\tvalidation_0-rmse:115.521\tvalidation_1-rmse:202.808\n",
      "Stopping. Best iteration:\n",
      "[373]\tvalidation_0-rmse:118.46\tvalidation_1-rmse:201.734\n",
      "\n",
      "0.7565547032201083\n",
      "valid mean: 599.0983276367188\n",
      "true  mean: 673.0143939393939\n",
      "test  mean: 445.1704406738281\n"
     ]
    },
    {
     "data": {
      "application/vnd.jupyter.widget-view+json": {
       "model_id": "6bd9734d37734a64a133de23b2e9aae0",
       "version_major": 2,
       "version_minor": 0
      },
      "text/plain": [
       "HBox(children=(IntProgress(value=0, max=2), HTML(value='')))"
      ]
     },
     "metadata": {},
     "output_type": "display_data"
    },
    {
     "name": "stdout",
     "output_type": "stream",
     "text": [
      "\n",
      "43 43\n",
      "all_idx  : 13 26\n",
      "train_idx: 13 22\n",
      "valid_idx: 23 23\n",
      "test_idx : 27 27\n",
      "Training until validation scores don't improve for 100 rounds.\n",
      "[100]\ttraining's l2: 9308.64\tvalid_1's l2: 34143.8\n",
      "[200]\ttraining's l2: 5046.37\tvalid_1's l2: 33822.1\n",
      "Early stopping, best iteration is:\n",
      "[140]\ttraining's l2: 6948.05\tvalid_1's l2: 33660.6\n",
      "0.7784281512206069\n",
      "valid mean: 639.957177160244\n",
      "true  mean: 673.0143939393939\n",
      "test  mean: 503.1600556652157\n"
     ]
    },
    {
     "data": {
      "application/vnd.jupyter.widget-view+json": {
       "model_id": "0de1fc5694eb4025a5d474bd43843f79",
       "version_major": 2,
       "version_minor": 0
      },
      "text/plain": [
       "HBox(children=(IntProgress(value=0, max=2), HTML(value='')))"
      ]
     },
     "metadata": {},
     "output_type": "display_data"
    },
    {
     "name": "stdout",
     "output_type": "stream",
     "text": [
      "\n",
      "43 43\n"
     ]
    },
    {
     "data": {
      "application/vnd.jupyter.widget-view+json": {
       "model_id": "cda13e55ebc94877af61a7b4118eb499",
       "version_major": 2,
       "version_minor": 0
      },
      "text/plain": [
       "HBox(children=(IntProgress(value=0, max=4), HTML(value='')))"
      ]
     },
     "metadata": {},
     "output_type": "display_data"
    },
    {
     "name": "stdout",
     "output_type": "stream",
     "text": [
      "\n",
      "all_idx  : 13 27\n",
      "train_idx: 13 23\n",
      "valid_idx: 24 24\n",
      "test_idx : 28 28\n",
      "[0]\tvalidation_0-rmse:900.647\tvalidation_1-rmse:1451.3\n",
      "Multiple eval metrics have been passed: 'validation_1-rmse' will be used for early stopping.\n",
      "\n",
      "Will train until validation_1-rmse hasn't improved in 100 rounds.\n",
      "[100]\tvalidation_0-rmse:859.315\tvalidation_1-rmse:1408.46\n",
      "[200]\tvalidation_0-rmse:274.929\tvalidation_1-rmse:718.674\n",
      "[300]\tvalidation_0-rmse:135.946\tvalidation_1-rmse:568.219\n",
      "[400]\tvalidation_0-rmse:120.391\tvalidation_1-rmse:555.047\n",
      "[500]\tvalidation_0-rmse:111.589\tvalidation_1-rmse:551.168\n",
      "[600]\tvalidation_0-rmse:102.914\tvalidation_1-rmse:548.964\n",
      "[700]\tvalidation_0-rmse:95.7736\tvalidation_1-rmse:547.637\n",
      "[800]\tvalidation_0-rmse:90.2692\tvalidation_1-rmse:548.171\n",
      "Stopping. Best iteration:\n",
      "[739]\tvalidation_0-rmse:93.041\tvalidation_1-rmse:546.971\n",
      "\n",
      "0.6068120887560093\n",
      "valid mean: 654.4166259765625\n",
      "true  mean: 899.8204545454546\n",
      "test  mean: 421.88836669921875\n"
     ]
    },
    {
     "data": {
      "application/vnd.jupyter.widget-view+json": {
       "model_id": "349efa3e6e474ec6a6218613eb86cd75",
       "version_major": 2,
       "version_minor": 0
      },
      "text/plain": [
       "HBox(children=(IntProgress(value=0, max=2), HTML(value='')))"
      ]
     },
     "metadata": {},
     "output_type": "display_data"
    },
    {
     "name": "stdout",
     "output_type": "stream",
     "text": [
      "\n",
      "43 43\n",
      "all_idx  : 13 27\n",
      "train_idx: 13 23\n",
      "valid_idx: 24 24\n",
      "test_idx : 28 28\n",
      "Training until validation scores don't improve for 100 rounds.\n",
      "[100]\ttraining's l2: 10018.3\tvalid_1's l2: 300224\n",
      "[200]\ttraining's l2: 5551.7\tvalid_1's l2: 290839\n",
      "[300]\ttraining's l2: 3831.22\tvalid_1's l2: 290615\n",
      "Early stopping, best iteration is:\n",
      "[295]\ttraining's l2: 3893.96\tvalid_1's l2: 290449\n",
      "0.6111608290916246\n",
      "valid mean: 650.645984444712\n",
      "true  mean: 899.8204545454546\n",
      "test  mean: 479.48189208712665\n"
     ]
    }
   ],
   "source": [
    "for month in [25,26,27,28]: \n",
    "    m_type = 'xgb'#'lgb' \n",
    "    data_df, stat_feat = get_stat_feature(data,month-24)\n",
    "    num_feat = ['regYear'] + stat_feat\n",
    "    cate_feat = ['adcode','bodyType','model','regMonth']   \n",
    "    features = num_feat + cate_feat\n",
    "    print(len(features), len(set(features)))   \n",
    "    xgb_model,sub,val_pred = get_train_model(data_df, month, m_type)   \n",
    "    \n",
    "    m_type = 'lgb' \n",
    "    data_df, stat_feat = get_stat_feature(data,month-24)\n",
    "    num_feat = ['regYear'] + stat_feat\n",
    "    cate_feat = ['adcode','bodyType','model','regMonth']  \n",
    "    features = num_feat + cate_feat\n",
    "    print(len(features), len(set(features)))   \n",
    "    lgb_model,sub,val_pred = get_train_model(data_df, month, m_type)   \n",
    "    \n",
    "    all_idx = (data_df['mt'].between(13  , month-1  ))\n",
    "    test_idx  = (data_df['mt'].between(month  , month  ))\n",
    "    stacked_averaged_models = StackingRegressor(\n",
    "        regressors=[xgb_model],\n",
    "        meta_regressor= lgb_model\n",
    "    )\n",
    "    stacked_averaged_models.fit(data_df[all_idx][features], data_df[all_idx]['label'])\n",
    "    sub['forecastVolum'] = stacked_averaged_models.predict(data_df[test_idx][features])\n",
    "    sub['forecastVolum'] = sub['forecastVolum'].apply(lambda x: 0 if x < 0 else x).round().astype(int)  \n",
    "    \n",
    "    \n",
    "    data.loc[(data.regMonth==(month-24))&(data.regYear==2018), 'salesVolume'] = sub['forecastVolum'].values\n",
    "    data.loc[(data.regMonth==(month-24))&(data.regYear==2018), 'label'      ] = sub['forecastVolum'].values\t\n",
    "sub = data.loc[(data.regMonth>=1)&(data.regYear==2018), ['id','salesVolume']]\n",
    "sub.columns = ['id','forecastVolum']\n",
    "sub[['id','forecastVolum']].round().astype(int).to_csv('../rst/yulao_063_CCF_sales_stacking.csv', index=False)"
   ]
  },
  {
   "cell_type": "code",
   "execution_count": 16,
   "metadata": {},
   "outputs": [
    {
     "data": {
      "image/png": "[encoded data removed]",
      "text/plain": [
       "<Figure size 576x720 with 1 Axes>"
      ]
     },
     "metadata": {
      "needs_background": "light"
     },
     "output_type": "display_data"
    }
   ],
   "source": [
    "feat_imp = pd.Series(model.feature_importances_, index=data_df[features].columns)\n",
    "feat_imp.nlargest(100).plot(kind='barh', figsize=(8,10))\n",
    "plt.show()"
   ]
  },
  {
   "cell_type": "code",
   "execution_count": 29,
   "metadata": {},
   "outputs": [
    {
     "data": {
      "text/html": [
       "<div>\n",
       "<style scoped>\n",
       "    .dataframe tbody tr th:only-of-type {\n",
       "        vertical-align: middle;\n",
       "    }\n",
       "\n",
       "    .dataframe tbody tr th {\n",
       "        vertical-align: top;\n",
       "    }\n",
       "\n",
       "    .dataframe thead th {\n",
       "        text-align: right;\n",
       "    }\n",
       "</style>\n",
       "<table border=\"1\" class=\"dataframe\">\n",
       "  <thead>\n",
       "    <tr style=\"text-align: right;\">\n",
       "      <th></th>\n",
       "      <th>regYear</th>\n",
       "      <th>shift_model_adcode_mt_label_1</th>\n",
       "      <th>shift_model_adcode_mt_label_2</th>\n",
       "      <th>shift_model_adcode_mt_label_3</th>\n",
       "      <th>shift_model_adcode_mt_label_4</th>\n",
       "      <th>shift_model_adcode_mt_label_5</th>\n",
       "      <th>shift_model_adcode_mt_label_6</th>\n",
       "      <th>shift_model_adcode_mt_label_7</th>\n",
       "      <th>shift_model_adcode_mt_label_8</th>\n",
       "      <th>shift_model_adcode_mt_label_9</th>\n",
       "      <th>...</th>\n",
       "      <th>popularity_last29_1_increase</th>\n",
       "      <th>popularity_last30_1_increase</th>\n",
       "      <th>popularity_last28_2_increase</th>\n",
       "      <th>popularity_last29_2_increase</th>\n",
       "      <th>popularity_last30_2_increase</th>\n",
       "      <th>dayCount</th>\n",
       "      <th>adcode</th>\n",
       "      <th>bodyType</th>\n",
       "      <th>model</th>\n",
       "      <th>regMonth</th>\n",
       "    </tr>\n",
       "  </thead>\n",
       "  <tbody>\n",
       "    <tr>\n",
       "      <td>27561</td>\n",
       "      <td>2017</td>\n",
       "      <td>338.0</td>\n",
       "      <td>233.0</td>\n",
       "      <td>238.0</td>\n",
       "      <td>304.0</td>\n",
       "      <td>215.0</td>\n",
       "      <td>250.0</td>\n",
       "      <td>182.0</td>\n",
       "      <td>462.0</td>\n",
       "      <td>1041.0</td>\n",
       "      <td>...</td>\n",
       "      <td>NaN</td>\n",
       "      <td>NaN</td>\n",
       "      <td>NaN</td>\n",
       "      <td>NaN</td>\n",
       "      <td>NaN</td>\n",
       "      <td>30</td>\n",
       "      <td>350000</td>\n",
       "      <td>1</td>\n",
       "      <td>52</td>\n",
       "      <td>9</td>\n",
       "    </tr>\n",
       "    <tr>\n",
       "      <td>35393</td>\n",
       "      <td>2018</td>\n",
       "      <td>160.0</td>\n",
       "      <td>297.0</td>\n",
       "      <td>586.0</td>\n",
       "      <td>357.0</td>\n",
       "      <td>353.0</td>\n",
       "      <td>287.0</td>\n",
       "      <td>193.0</td>\n",
       "      <td>160.0</td>\n",
       "      <td>223.0</td>\n",
       "      <td>...</td>\n",
       "      <td>NaN</td>\n",
       "      <td>NaN</td>\n",
       "      <td>NaN</td>\n",
       "      <td>NaN</td>\n",
       "      <td>NaN</td>\n",
       "      <td>31</td>\n",
       "      <td>350000</td>\n",
       "      <td>0</td>\n",
       "      <td>48</td>\n",
       "      <td>3</td>\n",
       "    </tr>\n",
       "    <tr>\n",
       "      <td>13540</td>\n",
       "      <td>2016</td>\n",
       "      <td>781.0</td>\n",
       "      <td>840.0</td>\n",
       "      <td>745.0</td>\n",
       "      <td>701.0</td>\n",
       "      <td>786.0</td>\n",
       "      <td>875.0</td>\n",
       "      <td>753.0</td>\n",
       "      <td>942.0</td>\n",
       "      <td>541.0</td>\n",
       "      <td>...</td>\n",
       "      <td>NaN</td>\n",
       "      <td>NaN</td>\n",
       "      <td>NaN</td>\n",
       "      <td>NaN</td>\n",
       "      <td>NaN</td>\n",
       "      <td>30</td>\n",
       "      <td>320000</td>\n",
       "      <td>1</td>\n",
       "      <td>15</td>\n",
       "      <td>11</td>\n",
       "    </tr>\n",
       "    <tr>\n",
       "      <td>1891</td>\n",
       "      <td>2016</td>\n",
       "      <td>65.0</td>\n",
       "      <td>NaN</td>\n",
       "      <td>NaN</td>\n",
       "      <td>NaN</td>\n",
       "      <td>NaN</td>\n",
       "      <td>NaN</td>\n",
       "      <td>NaN</td>\n",
       "      <td>NaN</td>\n",
       "      <td>NaN</td>\n",
       "      <td>...</td>\n",
       "      <td>NaN</td>\n",
       "      <td>NaN</td>\n",
       "      <td>NaN</td>\n",
       "      <td>NaN</td>\n",
       "      <td>NaN</td>\n",
       "      <td>29</td>\n",
       "      <td>230000</td>\n",
       "      <td>0</td>\n",
       "      <td>25</td>\n",
       "      <td>2</td>\n",
       "    </tr>\n",
       "    <tr>\n",
       "      <td>11380</td>\n",
       "      <td>2016</td>\n",
       "      <td>2200.0</td>\n",
       "      <td>1835.0</td>\n",
       "      <td>1935.0</td>\n",
       "      <td>2095.0</td>\n",
       "      <td>1838.0</td>\n",
       "      <td>1159.0</td>\n",
       "      <td>846.0</td>\n",
       "      <td>2478.0</td>\n",
       "      <td>NaN</td>\n",
       "      <td>...</td>\n",
       "      <td>NaN</td>\n",
       "      <td>NaN</td>\n",
       "      <td>NaN</td>\n",
       "      <td>NaN</td>\n",
       "      <td>NaN</td>\n",
       "      <td>30</td>\n",
       "      <td>370000</td>\n",
       "      <td>1</td>\n",
       "      <td>37</td>\n",
       "      <td>9</td>\n",
       "    </tr>\n",
       "  </tbody>\n",
       "</table>\n",
       "<p>5 rows × 43 columns</p>\n",
       "</div>"
      ],
      "text/plain": [
       "       regYear  shift_model_adcode_mt_label_1  shift_model_adcode_mt_label_2  \\\n",
       "27561     2017                          338.0                          233.0   \n",
       "35393     2018                          160.0                          297.0   \n",
       "13540     2016                          781.0                          840.0   \n",
       "1891      2016                           65.0                            NaN   \n",
       "11380     2016                         2200.0                         1835.0   \n",
       "\n",
       "       shift_model_adcode_mt_label_3  shift_model_adcode_mt_label_4  \\\n",
       "27561                          238.0                          304.0   \n",
       "35393                          586.0                          357.0   \n",
       "13540                          745.0                          701.0   \n",
       "1891                             NaN                            NaN   \n",
       "11380                         1935.0                         2095.0   \n",
       "\n",
       "       shift_model_adcode_mt_label_5  shift_model_adcode_mt_label_6  \\\n",
       "27561                          215.0                          250.0   \n",
       "35393                          353.0                          287.0   \n",
       "13540                          786.0                          875.0   \n",
       "1891                             NaN                            NaN   \n",
       "11380                         1838.0                         1159.0   \n",
       "\n",
       "       shift_model_adcode_mt_label_7  shift_model_adcode_mt_label_8  \\\n",
       "27561                          182.0                          462.0   \n",
       "35393                          193.0                          160.0   \n",
       "13540                          753.0                          942.0   \n",
       "1891                             NaN                            NaN   \n",
       "11380                          846.0                         2478.0   \n",
       "\n",
       "       shift_model_adcode_mt_label_9  ...  popularity_last29_1_increase  \\\n",
       "27561                         1041.0  ...                           NaN   \n",
       "35393                          223.0  ...                           NaN   \n",
       "13540                          541.0  ...                           NaN   \n",
       "1891                             NaN  ...                           NaN   \n",
       "11380                            NaN  ...                           NaN   \n",
       "\n",
       "       popularity_last30_1_increase  popularity_last28_2_increase  \\\n",
       "27561                           NaN                           NaN   \n",
       "35393                           NaN                           NaN   \n",
       "13540                           NaN                           NaN   \n",
       "1891                            NaN                           NaN   \n",
       "11380                           NaN                           NaN   \n",
       "\n",
       "       popularity_last29_2_increase  popularity_last30_2_increase  dayCount  \\\n",
       "27561                           NaN                           NaN        30   \n",
       "35393                           NaN                           NaN        31   \n",
       "13540                           NaN                           NaN        30   \n",
       "1891                            NaN                           NaN        29   \n",
       "11380                           NaN                           NaN        30   \n",
       "\n",
       "       adcode  bodyType  model  regMonth  \n",
       "27561  350000         1     52         9  \n",
       "35393  350000         0     48         3  \n",
       "13540  320000         1     15        11  \n",
       "1891   230000         0     25         2  \n",
       "11380  370000         1     37         9  \n",
       "\n",
       "[5 rows x 43 columns]"
      ]
     },
     "execution_count": 29,
     "metadata": {},
     "output_type": "execute_result"
    }
   ],
   "source": [
    "data_df[features].sample(5)"
   ]
  },
  {
   "cell_type": "code",
   "execution_count": 31,
   "metadata": {},
   "outputs": [
    {
     "data": {
      "text/html": [
       "<div>\n",
       "<style scoped>\n",
       "    .dataframe tbody tr th:only-of-type {\n",
       "        vertical-align: middle;\n",
       "    }\n",
       "\n",
       "    .dataframe tbody tr th {\n",
       "        vertical-align: top;\n",
       "    }\n",
       "\n",
       "    .dataframe thead th {\n",
       "        text-align: right;\n",
       "    }\n",
       "</style>\n",
       "<table border=\"1\" class=\"dataframe\">\n",
       "  <thead>\n",
       "    <tr style=\"text-align: right;\">\n",
       "      <th></th>\n",
       "      <th>adcode</th>\n",
       "      <th>bodyType</th>\n",
       "      <th>forecastVolum</th>\n",
       "      <th>id</th>\n",
       "      <th>model</th>\n",
       "      <th>province</th>\n",
       "      <th>regMonth</th>\n",
       "      <th>regYear</th>\n",
       "      <th>salesVolume</th>\n",
       "      <th>popularity</th>\n",
       "      <th>carCommentVolum</th>\n",
       "      <th>newsReplyVolum</th>\n",
       "      <th>label</th>\n",
       "      <th>mt</th>\n",
       "    </tr>\n",
       "  </thead>\n",
       "  <tbody>\n",
       "    <tr>\n",
       "      <td>0</td>\n",
       "      <td>310000</td>\n",
       "      <td>0</td>\n",
       "      <td>NaN</td>\n",
       "      <td>0</td>\n",
       "      <td>0</td>\n",
       "      <td>上海</td>\n",
       "      <td>1</td>\n",
       "      <td>2016</td>\n",
       "      <td>292.0</td>\n",
       "      <td>1479.0</td>\n",
       "      <td>11.0</td>\n",
       "      <td>106.0</td>\n",
       "      <td>292.0</td>\n",
       "      <td>1</td>\n",
       "    </tr>\n",
       "    <tr>\n",
       "      <td>1</td>\n",
       "      <td>530000</td>\n",
       "      <td>0</td>\n",
       "      <td>NaN</td>\n",
       "      <td>0</td>\n",
       "      <td>0</td>\n",
       "      <td>云南</td>\n",
       "      <td>1</td>\n",
       "      <td>2016</td>\n",
       "      <td>466.0</td>\n",
       "      <td>1594.0</td>\n",
       "      <td>11.0</td>\n",
       "      <td>106.0</td>\n",
       "      <td>466.0</td>\n",
       "      <td>1</td>\n",
       "    </tr>\n",
       "    <tr>\n",
       "      <td>2</td>\n",
       "      <td>150000</td>\n",
       "      <td>0</td>\n",
       "      <td>NaN</td>\n",
       "      <td>0</td>\n",
       "      <td>0</td>\n",
       "      <td>内蒙古</td>\n",
       "      <td>1</td>\n",
       "      <td>2016</td>\n",
       "      <td>257.0</td>\n",
       "      <td>1479.0</td>\n",
       "      <td>11.0</td>\n",
       "      <td>106.0</td>\n",
       "      <td>257.0</td>\n",
       "      <td>1</td>\n",
       "    </tr>\n",
       "    <tr>\n",
       "      <td>3</td>\n",
       "      <td>110000</td>\n",
       "      <td>0</td>\n",
       "      <td>NaN</td>\n",
       "      <td>0</td>\n",
       "      <td>0</td>\n",
       "      <td>北京</td>\n",
       "      <td>1</td>\n",
       "      <td>2016</td>\n",
       "      <td>408.0</td>\n",
       "      <td>2370.0</td>\n",
       "      <td>11.0</td>\n",
       "      <td>106.0</td>\n",
       "      <td>408.0</td>\n",
       "      <td>1</td>\n",
       "    </tr>\n",
       "    <tr>\n",
       "      <td>4</td>\n",
       "      <td>510000</td>\n",
       "      <td>0</td>\n",
       "      <td>NaN</td>\n",
       "      <td>0</td>\n",
       "      <td>0</td>\n",
       "      <td>四川</td>\n",
       "      <td>1</td>\n",
       "      <td>2016</td>\n",
       "      <td>610.0</td>\n",
       "      <td>3562.0</td>\n",
       "      <td>11.0</td>\n",
       "      <td>106.0</td>\n",
       "      <td>610.0</td>\n",
       "      <td>1</td>\n",
       "    </tr>\n",
       "  </tbody>\n",
       "</table>\n",
       "</div>"
      ],
      "text/plain": [
       "   adcode  bodyType  forecastVolum  id  model province  regMonth  regYear  \\\n",
       "0  310000         0            NaN   0      0       上海         1     2016   \n",
       "1  530000         0            NaN   0      0       云南         1     2016   \n",
       "2  150000         0            NaN   0      0      内蒙古         1     2016   \n",
       "3  110000         0            NaN   0      0       北京         1     2016   \n",
       "4  510000         0            NaN   0      0       四川         1     2016   \n",
       "\n",
       "   salesVolume  popularity  carCommentVolum  newsReplyVolum  label  mt  \n",
       "0        292.0      1479.0             11.0           106.0  292.0   1  \n",
       "1        466.0      1594.0             11.0           106.0  466.0   1  \n",
       "2        257.0      1479.0             11.0           106.0  257.0   1  \n",
       "3        408.0      2370.0             11.0           106.0  408.0   1  \n",
       "4        610.0      3562.0             11.0           106.0  610.0   1  "
      ]
     },
     "execution_count": 31,
     "metadata": {},
     "output_type": "execute_result"
    }
   ],
   "source": [
    "data.head()"
   ]
  },
  {
   "cell_type": "code",
   "execution_count": null,
   "metadata": {},
   "outputs": [],
   "source": []
  }
 ],
 "metadata": {
  "kernelspec": {
   "display_name": "Python 3",
   "language": "python",
   "name": "python3"
  },
  "language_info": {
   "codemirror_mode": {
    "name": "ipython",
    "version": 3
   },
   "file_extension": ".py",
   "mimetype": "text/x-python",
   "name": "python",
   "nbconvert_exporter": "python",
   "pygments_lexer": "ipython3",
   "version": "3.7.0"
  },
  "notify_time": "5"
 },
 "nbformat": 4,
 "nbformat_minor": 2
}
